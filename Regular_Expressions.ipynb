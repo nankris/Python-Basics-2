{
  "nbformat": 4,
  "nbformat_minor": 0,
  "metadata": {
    "colab": {
      "name": "Regular Expressions.ipynb",
      "provenance": [],
      "collapsed_sections": []
    },
    "kernelspec": {
      "name": "python3",
      "display_name": "Python 3"
    }
  },
  "cells": [
    {
      "cell_type": "code",
      "metadata": {
        "colab": {
          "base_uri": "https://localhost:8080/"
        },
        "id": "nnT7153CqNzZ",
        "outputId": "a8974744-4ee1-42db-b5df-a7ee005a7e7e"
      },
      "source": [
        "import re\r\n",
        "\r\n",
        "text_to_search = '''\r\n",
        "abcdefghijklmnopqurtuvwxyz\r\n",
        "ABCDEFGHIJKLMNOPQRSTUVWXYZ\r\n",
        "1234567890\r\n",
        "Ha HaHa\r\n",
        "MetaCharacters (Need to be escaped):\r\n",
        ". ^ $ * + ? { } [ ] \\ | ( )\r\n",
        "coreyms.com\r\n",
        "321-555-4321\r\n",
        "123.555.1234\r\n",
        "123*555*1234\r\n",
        "800-555-1234\r\n",
        "900-555-1234\r\n",
        "Mr. Schafer\r\n",
        "Mr Smith\r\n",
        "Ms Davis\r\n",
        "Mrs. Robinson\r\n",
        "Mr. T\r\n",
        "\r\n",
        "cat\r\n",
        "mat\r\n",
        "pat\r\n",
        "bat\r\n",
        "'''\r\n",
        "\r\n",
        "sentence = 'Start a sentence and then bring it to an end'\r\n",
        "\r\n",
        "pattern = re.compile(r'start', re.I)\r\n",
        "\r\n",
        "matches = pattern.search(sentence)\r\n",
        "\r\n",
        "print(matches)"
      ],
      "execution_count": 36,
      "outputs": [
        {
          "output_type": "stream",
          "text": [
            "<re.Match object; span=(0, 5), match='Start'>\n"
          ],
          "name": "stdout"
        }
      ]
    },
    {
      "cell_type": "code",
      "metadata": {
        "colab": {
          "base_uri": "https://localhost:8080/"
        },
        "id": "gSVOe56fqQwM",
        "outputId": "baaff8ce-8bf4-441e-d970-be179ca618f4"
      },
      "source": [
        "print('\\tTab')"
      ],
      "execution_count": 2,
      "outputs": [
        {
          "output_type": "stream",
          "text": [
            "\tTab\n"
          ],
          "name": "stdout"
        }
      ]
    },
    {
      "cell_type": "code",
      "metadata": {
        "colab": {
          "base_uri": "https://localhost:8080/"
        },
        "id": "CArGQNmdqQsy",
        "outputId": "15c3332e-7d64-46b8-d6b2-53e699fb00da"
      },
      "source": [
        "print(r'\\tTab') #Raw String"
      ],
      "execution_count": 3,
      "outputs": [
        {
          "output_type": "stream",
          "text": [
            "\\tTab\n"
          ],
          "name": "stdout"
        }
      ]
    },
    {
      "cell_type": "code",
      "metadata": {
        "id": "AvIYutdDqQoC"
      },
      "source": [
        "#compile separates pattern to variables\r\n",
        "#reuse the variable for performing multiple searches  "
      ],
      "execution_count": null,
      "outputs": []
    },
    {
      "cell_type": "code",
      "metadata": {
        "colab": {
          "base_uri": "https://localhost:8080/"
        },
        "id": "qlsLQs0Iq0Uo",
        "outputId": "c5ab95b3-b2d5-40ba-a574-8dcc237bcc39"
      },
      "source": [
        "pattern=re.compile(r'abc')\r\n",
        "#finditer returns iterator\r\n",
        "matches=pattern.finditer(text_to_search)\r\n",
        "for match in matches:\r\n",
        "  print(match)\r\n",
        "#span beginning and ending of length\r\n",
        "#from index 1 to 4 the system found abc string"
      ],
      "execution_count": 4,
      "outputs": [
        {
          "output_type": "stream",
          "text": [
            "<re.Match object; span=(1, 4), match='abc'>\n"
          ],
          "name": "stdout"
        }
      ]
    },
    {
      "cell_type": "code",
      "metadata": {
        "colab": {
          "base_uri": "https://localhost:8080/"
        },
        "id": "UV3Ht515q0SH",
        "outputId": "61bb3d72-81a9-4b82-f00d-808bbb16f7d3"
      },
      "source": [
        "print(text_to_search[1:4])"
      ],
      "execution_count": 5,
      "outputs": [
        {
          "output_type": "stream",
          "text": [
            "abc\n"
          ],
          "name": "stdout"
        }
      ]
    },
    {
      "cell_type": "code",
      "metadata": {
        "id": "kSstt0A-q0O-"
      },
      "source": [
        "#it didn't matched upper case ABC\r\n",
        "\r\n",
        "#also cba etc. won't be matched (it should be in order)\r\n"
      ],
      "execution_count": null,
      "outputs": []
    },
    {
      "cell_type": "code",
      "metadata": {
        "colab": {
          "base_uri": "https://localhost:8080/"
        },
        "id": "oTSw8KNwrpjY",
        "outputId": "f9c877d9-bab9-4d07-a4d5-dd48898f86fb"
      },
      "source": [
        "pattern=re.compile(r'.')\r\n",
        "#finditer returns iterator\r\n",
        "matches=pattern.finditer(text_to_search)\r\n",
        "for match in matches:\r\n",
        "  print(match)\r\n",
        "\r\n",
        "#it is matching everything, as period is a special character, so we hvae to use backslash\r\n",
        "#. means any character except New Line"
      ],
      "execution_count": 6,
      "outputs": [
        {
          "output_type": "stream",
          "text": [
            "<re.Match object; span=(1, 2), match='a'>\n",
            "<re.Match object; span=(2, 3), match='b'>\n",
            "<re.Match object; span=(3, 4), match='c'>\n",
            "<re.Match object; span=(4, 5), match='d'>\n",
            "<re.Match object; span=(5, 6), match='e'>\n",
            "<re.Match object; span=(6, 7), match='f'>\n",
            "<re.Match object; span=(7, 8), match='g'>\n",
            "<re.Match object; span=(8, 9), match='h'>\n",
            "<re.Match object; span=(9, 10), match='i'>\n",
            "<re.Match object; span=(10, 11), match='j'>\n",
            "<re.Match object; span=(11, 12), match='k'>\n",
            "<re.Match object; span=(12, 13), match='l'>\n",
            "<re.Match object; span=(13, 14), match='m'>\n",
            "<re.Match object; span=(14, 15), match='n'>\n",
            "<re.Match object; span=(15, 16), match='o'>\n",
            "<re.Match object; span=(16, 17), match='p'>\n",
            "<re.Match object; span=(17, 18), match='q'>\n",
            "<re.Match object; span=(18, 19), match='u'>\n",
            "<re.Match object; span=(19, 20), match='r'>\n",
            "<re.Match object; span=(20, 21), match='t'>\n",
            "<re.Match object; span=(21, 22), match='u'>\n",
            "<re.Match object; span=(22, 23), match='v'>\n",
            "<re.Match object; span=(23, 24), match='w'>\n",
            "<re.Match object; span=(24, 25), match='x'>\n",
            "<re.Match object; span=(25, 26), match='y'>\n",
            "<re.Match object; span=(26, 27), match='z'>\n",
            "<re.Match object; span=(28, 29), match='A'>\n",
            "<re.Match object; span=(29, 30), match='B'>\n",
            "<re.Match object; span=(30, 31), match='C'>\n",
            "<re.Match object; span=(31, 32), match='D'>\n",
            "<re.Match object; span=(32, 33), match='E'>\n",
            "<re.Match object; span=(33, 34), match='F'>\n",
            "<re.Match object; span=(34, 35), match='G'>\n",
            "<re.Match object; span=(35, 36), match='H'>\n",
            "<re.Match object; span=(36, 37), match='I'>\n",
            "<re.Match object; span=(37, 38), match='J'>\n",
            "<re.Match object; span=(38, 39), match='K'>\n",
            "<re.Match object; span=(39, 40), match='L'>\n",
            "<re.Match object; span=(40, 41), match='M'>\n",
            "<re.Match object; span=(41, 42), match='N'>\n",
            "<re.Match object; span=(42, 43), match='O'>\n",
            "<re.Match object; span=(43, 44), match='P'>\n",
            "<re.Match object; span=(44, 45), match='Q'>\n",
            "<re.Match object; span=(45, 46), match='R'>\n",
            "<re.Match object; span=(46, 47), match='S'>\n",
            "<re.Match object; span=(47, 48), match='T'>\n",
            "<re.Match object; span=(48, 49), match='U'>\n",
            "<re.Match object; span=(49, 50), match='V'>\n",
            "<re.Match object; span=(50, 51), match='W'>\n",
            "<re.Match object; span=(51, 52), match='X'>\n",
            "<re.Match object; span=(52, 53), match='Y'>\n",
            "<re.Match object; span=(53, 54), match='Z'>\n",
            "<re.Match object; span=(55, 56), match='1'>\n",
            "<re.Match object; span=(56, 57), match='2'>\n",
            "<re.Match object; span=(57, 58), match='3'>\n",
            "<re.Match object; span=(58, 59), match='4'>\n",
            "<re.Match object; span=(59, 60), match='5'>\n",
            "<re.Match object; span=(60, 61), match='6'>\n",
            "<re.Match object; span=(61, 62), match='7'>\n",
            "<re.Match object; span=(62, 63), match='8'>\n",
            "<re.Match object; span=(63, 64), match='9'>\n",
            "<re.Match object; span=(64, 65), match='0'>\n",
            "<re.Match object; span=(66, 67), match='H'>\n",
            "<re.Match object; span=(67, 68), match='a'>\n",
            "<re.Match object; span=(68, 69), match=' '>\n",
            "<re.Match object; span=(69, 70), match='H'>\n",
            "<re.Match object; span=(70, 71), match='a'>\n",
            "<re.Match object; span=(71, 72), match='H'>\n",
            "<re.Match object; span=(72, 73), match='a'>\n",
            "<re.Match object; span=(74, 75), match='M'>\n",
            "<re.Match object; span=(75, 76), match='e'>\n",
            "<re.Match object; span=(76, 77), match='t'>\n",
            "<re.Match object; span=(77, 78), match='a'>\n",
            "<re.Match object; span=(78, 79), match='C'>\n",
            "<re.Match object; span=(79, 80), match='h'>\n",
            "<re.Match object; span=(80, 81), match='a'>\n",
            "<re.Match object; span=(81, 82), match='r'>\n",
            "<re.Match object; span=(82, 83), match='a'>\n",
            "<re.Match object; span=(83, 84), match='c'>\n",
            "<re.Match object; span=(84, 85), match='t'>\n",
            "<re.Match object; span=(85, 86), match='e'>\n",
            "<re.Match object; span=(86, 87), match='r'>\n",
            "<re.Match object; span=(87, 88), match='s'>\n",
            "<re.Match object; span=(88, 89), match=' '>\n",
            "<re.Match object; span=(89, 90), match='('>\n",
            "<re.Match object; span=(90, 91), match='N'>\n",
            "<re.Match object; span=(91, 92), match='e'>\n",
            "<re.Match object; span=(92, 93), match='e'>\n",
            "<re.Match object; span=(93, 94), match='d'>\n",
            "<re.Match object; span=(94, 95), match=' '>\n",
            "<re.Match object; span=(95, 96), match='t'>\n",
            "<re.Match object; span=(96, 97), match='o'>\n",
            "<re.Match object; span=(97, 98), match=' '>\n",
            "<re.Match object; span=(98, 99), match='b'>\n",
            "<re.Match object; span=(99, 100), match='e'>\n",
            "<re.Match object; span=(100, 101), match=' '>\n",
            "<re.Match object; span=(101, 102), match='e'>\n",
            "<re.Match object; span=(102, 103), match='s'>\n",
            "<re.Match object; span=(103, 104), match='c'>\n",
            "<re.Match object; span=(104, 105), match='a'>\n",
            "<re.Match object; span=(105, 106), match='p'>\n",
            "<re.Match object; span=(106, 107), match='e'>\n",
            "<re.Match object; span=(107, 108), match='d'>\n",
            "<re.Match object; span=(108, 109), match=')'>\n",
            "<re.Match object; span=(109, 110), match=':'>\n",
            "<re.Match object; span=(111, 112), match='.'>\n",
            "<re.Match object; span=(112, 113), match=' '>\n",
            "<re.Match object; span=(113, 114), match='^'>\n",
            "<re.Match object; span=(114, 115), match=' '>\n",
            "<re.Match object; span=(115, 116), match='$'>\n",
            "<re.Match object; span=(116, 117), match=' '>\n",
            "<re.Match object; span=(117, 118), match='*'>\n",
            "<re.Match object; span=(118, 119), match=' '>\n",
            "<re.Match object; span=(119, 120), match='+'>\n",
            "<re.Match object; span=(120, 121), match=' '>\n",
            "<re.Match object; span=(121, 122), match='?'>\n",
            "<re.Match object; span=(122, 123), match=' '>\n",
            "<re.Match object; span=(123, 124), match='{'>\n",
            "<re.Match object; span=(124, 125), match=' '>\n",
            "<re.Match object; span=(125, 126), match='}'>\n",
            "<re.Match object; span=(126, 127), match=' '>\n",
            "<re.Match object; span=(127, 128), match='['>\n",
            "<re.Match object; span=(128, 129), match=' '>\n",
            "<re.Match object; span=(129, 130), match=']'>\n",
            "<re.Match object; span=(130, 131), match=' '>\n",
            "<re.Match object; span=(131, 132), match='\\\\'>\n",
            "<re.Match object; span=(132, 133), match=' '>\n",
            "<re.Match object; span=(133, 134), match='|'>\n",
            "<re.Match object; span=(134, 135), match=' '>\n",
            "<re.Match object; span=(135, 136), match='('>\n",
            "<re.Match object; span=(136, 137), match=' '>\n",
            "<re.Match object; span=(137, 138), match=')'>\n",
            "<re.Match object; span=(139, 140), match='c'>\n",
            "<re.Match object; span=(140, 141), match='o'>\n",
            "<re.Match object; span=(141, 142), match='r'>\n",
            "<re.Match object; span=(142, 143), match='e'>\n",
            "<re.Match object; span=(143, 144), match='y'>\n",
            "<re.Match object; span=(144, 145), match='m'>\n",
            "<re.Match object; span=(145, 146), match='s'>\n",
            "<re.Match object; span=(146, 147), match='.'>\n",
            "<re.Match object; span=(147, 148), match='c'>\n",
            "<re.Match object; span=(148, 149), match='o'>\n",
            "<re.Match object; span=(149, 150), match='m'>\n",
            "<re.Match object; span=(151, 152), match='3'>\n",
            "<re.Match object; span=(152, 153), match='2'>\n",
            "<re.Match object; span=(153, 154), match='1'>\n",
            "<re.Match object; span=(154, 155), match='-'>\n",
            "<re.Match object; span=(155, 156), match='5'>\n",
            "<re.Match object; span=(156, 157), match='5'>\n",
            "<re.Match object; span=(157, 158), match='5'>\n",
            "<re.Match object; span=(158, 159), match='-'>\n",
            "<re.Match object; span=(159, 160), match='4'>\n",
            "<re.Match object; span=(160, 161), match='3'>\n",
            "<re.Match object; span=(161, 162), match='2'>\n",
            "<re.Match object; span=(162, 163), match='1'>\n",
            "<re.Match object; span=(164, 165), match='1'>\n",
            "<re.Match object; span=(165, 166), match='2'>\n",
            "<re.Match object; span=(166, 167), match='3'>\n",
            "<re.Match object; span=(167, 168), match='.'>\n",
            "<re.Match object; span=(168, 169), match='5'>\n",
            "<re.Match object; span=(169, 170), match='5'>\n",
            "<re.Match object; span=(170, 171), match='5'>\n",
            "<re.Match object; span=(171, 172), match='.'>\n",
            "<re.Match object; span=(172, 173), match='1'>\n",
            "<re.Match object; span=(173, 174), match='2'>\n",
            "<re.Match object; span=(174, 175), match='3'>\n",
            "<re.Match object; span=(175, 176), match='4'>\n",
            "<re.Match object; span=(177, 178), match='1'>\n",
            "<re.Match object; span=(178, 179), match='2'>\n",
            "<re.Match object; span=(179, 180), match='3'>\n",
            "<re.Match object; span=(180, 181), match='*'>\n",
            "<re.Match object; span=(181, 182), match='5'>\n",
            "<re.Match object; span=(182, 183), match='5'>\n",
            "<re.Match object; span=(183, 184), match='5'>\n",
            "<re.Match object; span=(184, 185), match='*'>\n",
            "<re.Match object; span=(185, 186), match='1'>\n",
            "<re.Match object; span=(186, 187), match='2'>\n",
            "<re.Match object; span=(187, 188), match='3'>\n",
            "<re.Match object; span=(188, 189), match='4'>\n",
            "<re.Match object; span=(190, 191), match='8'>\n",
            "<re.Match object; span=(191, 192), match='0'>\n",
            "<re.Match object; span=(192, 193), match='0'>\n",
            "<re.Match object; span=(193, 194), match='-'>\n",
            "<re.Match object; span=(194, 195), match='5'>\n",
            "<re.Match object; span=(195, 196), match='5'>\n",
            "<re.Match object; span=(196, 197), match='5'>\n",
            "<re.Match object; span=(197, 198), match='-'>\n",
            "<re.Match object; span=(198, 199), match='1'>\n",
            "<re.Match object; span=(199, 200), match='2'>\n",
            "<re.Match object; span=(200, 201), match='3'>\n",
            "<re.Match object; span=(201, 202), match='4'>\n",
            "<re.Match object; span=(203, 204), match='9'>\n",
            "<re.Match object; span=(204, 205), match='0'>\n",
            "<re.Match object; span=(205, 206), match='0'>\n",
            "<re.Match object; span=(206, 207), match='-'>\n",
            "<re.Match object; span=(207, 208), match='5'>\n",
            "<re.Match object; span=(208, 209), match='5'>\n",
            "<re.Match object; span=(209, 210), match='5'>\n",
            "<re.Match object; span=(210, 211), match='-'>\n",
            "<re.Match object; span=(211, 212), match='1'>\n",
            "<re.Match object; span=(212, 213), match='2'>\n",
            "<re.Match object; span=(213, 214), match='3'>\n",
            "<re.Match object; span=(214, 215), match='4'>\n",
            "<re.Match object; span=(216, 217), match='M'>\n",
            "<re.Match object; span=(217, 218), match='r'>\n",
            "<re.Match object; span=(218, 219), match='.'>\n",
            "<re.Match object; span=(219, 220), match=' '>\n",
            "<re.Match object; span=(220, 221), match='S'>\n",
            "<re.Match object; span=(221, 222), match='c'>\n",
            "<re.Match object; span=(222, 223), match='h'>\n",
            "<re.Match object; span=(223, 224), match='a'>\n",
            "<re.Match object; span=(224, 225), match='f'>\n",
            "<re.Match object; span=(225, 226), match='e'>\n",
            "<re.Match object; span=(226, 227), match='r'>\n",
            "<re.Match object; span=(228, 229), match='M'>\n",
            "<re.Match object; span=(229, 230), match='r'>\n",
            "<re.Match object; span=(230, 231), match=' '>\n",
            "<re.Match object; span=(231, 232), match='S'>\n",
            "<re.Match object; span=(232, 233), match='m'>\n",
            "<re.Match object; span=(233, 234), match='i'>\n",
            "<re.Match object; span=(234, 235), match='t'>\n",
            "<re.Match object; span=(235, 236), match='h'>\n",
            "<re.Match object; span=(237, 238), match='M'>\n",
            "<re.Match object; span=(238, 239), match='s'>\n",
            "<re.Match object; span=(239, 240), match=' '>\n",
            "<re.Match object; span=(240, 241), match='D'>\n",
            "<re.Match object; span=(241, 242), match='a'>\n",
            "<re.Match object; span=(242, 243), match='v'>\n",
            "<re.Match object; span=(243, 244), match='i'>\n",
            "<re.Match object; span=(244, 245), match='s'>\n",
            "<re.Match object; span=(246, 247), match='M'>\n",
            "<re.Match object; span=(247, 248), match='r'>\n",
            "<re.Match object; span=(248, 249), match='s'>\n",
            "<re.Match object; span=(249, 250), match='.'>\n",
            "<re.Match object; span=(250, 251), match=' '>\n",
            "<re.Match object; span=(251, 252), match='R'>\n",
            "<re.Match object; span=(252, 253), match='o'>\n",
            "<re.Match object; span=(253, 254), match='b'>\n",
            "<re.Match object; span=(254, 255), match='i'>\n",
            "<re.Match object; span=(255, 256), match='n'>\n",
            "<re.Match object; span=(256, 257), match='s'>\n",
            "<re.Match object; span=(257, 258), match='o'>\n",
            "<re.Match object; span=(258, 259), match='n'>\n",
            "<re.Match object; span=(260, 261), match='M'>\n",
            "<re.Match object; span=(261, 262), match='r'>\n",
            "<re.Match object; span=(262, 263), match='.'>\n",
            "<re.Match object; span=(263, 264), match=' '>\n",
            "<re.Match object; span=(264, 265), match='T'>\n"
          ],
          "name": "stdout"
        }
      ]
    },
    {
      "cell_type": "code",
      "metadata": {
        "colab": {
          "base_uri": "https://localhost:8080/"
        },
        "id": "T2HQoX3Drpf-",
        "outputId": "f7048d1a-51eb-4dbe-8f75-1092dedff006"
      },
      "source": [
        "pattern=re.compile(r'\\.')\r\n",
        "#finditer returns iterator\r\n",
        "matches=pattern.finditer(text_to_search)\r\n",
        "for match in matches:\r\n",
        "  print(match)"
      ],
      "execution_count": 7,
      "outputs": [
        {
          "output_type": "stream",
          "text": [
            "<re.Match object; span=(111, 112), match='.'>\n",
            "<re.Match object; span=(146, 147), match='.'>\n",
            "<re.Match object; span=(167, 168), match='.'>\n",
            "<re.Match object; span=(171, 172), match='.'>\n",
            "<re.Match object; span=(218, 219), match='.'>\n",
            "<re.Match object; span=(249, 250), match='.'>\n",
            "<re.Match object; span=(262, 263), match='.'>\n"
          ],
          "name": "stdout"
        }
      ]
    },
    {
      "cell_type": "code",
      "metadata": {
        "colab": {
          "base_uri": "https://localhost:8080/"
        },
        "id": "t4_CTCj4rpda",
        "outputId": "d0389318-4c14-4bb9-f497-6ffab560d40b"
      },
      "source": [
        "#to match exact URL\r\n",
        "pattern=re.compile(r'coreyms\\.com')\r\n",
        "#finditer returns iterator\r\n",
        "matches=pattern.finditer(text_to_search)\r\n",
        "for match in matches:\r\n",
        "  print(match)"
      ],
      "execution_count": 8,
      "outputs": [
        {
          "output_type": "stream",
          "text": [
            "<re.Match object; span=(139, 150), match='coreyms.com'>\n"
          ],
          "name": "stdout"
        }
      ]
    },
    {
      "cell_type": "code",
      "metadata": {
        "colab": {
          "base_uri": "https://localhost:8080/"
        },
        "id": "--PVcnkBsKaM",
        "outputId": "bea7d52a-fb7b-4116-9587-d47a188a651e"
      },
      "source": [
        "#digits and D is not matching any digit\r\n",
        "pattern=re.compile(r'\\d')\r\n",
        "#finditer returns iterator\r\n",
        "matches=pattern.finditer(text_to_search)\r\n",
        "for match in matches:\r\n",
        "  print(match)"
      ],
      "execution_count": 9,
      "outputs": [
        {
          "output_type": "stream",
          "text": [
            "<re.Match object; span=(55, 56), match='1'>\n",
            "<re.Match object; span=(56, 57), match='2'>\n",
            "<re.Match object; span=(57, 58), match='3'>\n",
            "<re.Match object; span=(58, 59), match='4'>\n",
            "<re.Match object; span=(59, 60), match='5'>\n",
            "<re.Match object; span=(60, 61), match='6'>\n",
            "<re.Match object; span=(61, 62), match='7'>\n",
            "<re.Match object; span=(62, 63), match='8'>\n",
            "<re.Match object; span=(63, 64), match='9'>\n",
            "<re.Match object; span=(64, 65), match='0'>\n",
            "<re.Match object; span=(151, 152), match='3'>\n",
            "<re.Match object; span=(152, 153), match='2'>\n",
            "<re.Match object; span=(153, 154), match='1'>\n",
            "<re.Match object; span=(155, 156), match='5'>\n",
            "<re.Match object; span=(156, 157), match='5'>\n",
            "<re.Match object; span=(157, 158), match='5'>\n",
            "<re.Match object; span=(159, 160), match='4'>\n",
            "<re.Match object; span=(160, 161), match='3'>\n",
            "<re.Match object; span=(161, 162), match='2'>\n",
            "<re.Match object; span=(162, 163), match='1'>\n",
            "<re.Match object; span=(164, 165), match='1'>\n",
            "<re.Match object; span=(165, 166), match='2'>\n",
            "<re.Match object; span=(166, 167), match='3'>\n",
            "<re.Match object; span=(168, 169), match='5'>\n",
            "<re.Match object; span=(169, 170), match='5'>\n",
            "<re.Match object; span=(170, 171), match='5'>\n",
            "<re.Match object; span=(172, 173), match='1'>\n",
            "<re.Match object; span=(173, 174), match='2'>\n",
            "<re.Match object; span=(174, 175), match='3'>\n",
            "<re.Match object; span=(175, 176), match='4'>\n",
            "<re.Match object; span=(177, 178), match='1'>\n",
            "<re.Match object; span=(178, 179), match='2'>\n",
            "<re.Match object; span=(179, 180), match='3'>\n",
            "<re.Match object; span=(181, 182), match='5'>\n",
            "<re.Match object; span=(182, 183), match='5'>\n",
            "<re.Match object; span=(183, 184), match='5'>\n",
            "<re.Match object; span=(185, 186), match='1'>\n",
            "<re.Match object; span=(186, 187), match='2'>\n",
            "<re.Match object; span=(187, 188), match='3'>\n",
            "<re.Match object; span=(188, 189), match='4'>\n",
            "<re.Match object; span=(190, 191), match='8'>\n",
            "<re.Match object; span=(191, 192), match='0'>\n",
            "<re.Match object; span=(192, 193), match='0'>\n",
            "<re.Match object; span=(194, 195), match='5'>\n",
            "<re.Match object; span=(195, 196), match='5'>\n",
            "<re.Match object; span=(196, 197), match='5'>\n",
            "<re.Match object; span=(198, 199), match='1'>\n",
            "<re.Match object; span=(199, 200), match='2'>\n",
            "<re.Match object; span=(200, 201), match='3'>\n",
            "<re.Match object; span=(201, 202), match='4'>\n",
            "<re.Match object; span=(203, 204), match='9'>\n",
            "<re.Match object; span=(204, 205), match='0'>\n",
            "<re.Match object; span=(205, 206), match='0'>\n",
            "<re.Match object; span=(207, 208), match='5'>\n",
            "<re.Match object; span=(208, 209), match='5'>\n",
            "<re.Match object; span=(209, 210), match='5'>\n",
            "<re.Match object; span=(211, 212), match='1'>\n",
            "<re.Match object; span=(212, 213), match='2'>\n",
            "<re.Match object; span=(213, 214), match='3'>\n",
            "<re.Match object; span=(214, 215), match='4'>\n"
          ],
          "name": "stdout"
        }
      ]
    },
    {
      "cell_type": "code",
      "metadata": {
        "colab": {
          "base_uri": "https://localhost:8080/"
        },
        "id": "L2jotWclsXFn",
        "outputId": "552c1436-44fc-4adb-eaf1-7f6ddd6cc71d"
      },
      "source": [
        "pattern=re.compile(r'\\D')\r\n",
        "#finditer returns iterator\r\n",
        "matches=pattern.finditer(text_to_search)\r\n",
        "for match in matches:\r\n",
        "  print(match)"
      ],
      "execution_count": 10,
      "outputs": [
        {
          "output_type": "stream",
          "text": [
            "<re.Match object; span=(0, 1), match='\\n'>\n",
            "<re.Match object; span=(1, 2), match='a'>\n",
            "<re.Match object; span=(2, 3), match='b'>\n",
            "<re.Match object; span=(3, 4), match='c'>\n",
            "<re.Match object; span=(4, 5), match='d'>\n",
            "<re.Match object; span=(5, 6), match='e'>\n",
            "<re.Match object; span=(6, 7), match='f'>\n",
            "<re.Match object; span=(7, 8), match='g'>\n",
            "<re.Match object; span=(8, 9), match='h'>\n",
            "<re.Match object; span=(9, 10), match='i'>\n",
            "<re.Match object; span=(10, 11), match='j'>\n",
            "<re.Match object; span=(11, 12), match='k'>\n",
            "<re.Match object; span=(12, 13), match='l'>\n",
            "<re.Match object; span=(13, 14), match='m'>\n",
            "<re.Match object; span=(14, 15), match='n'>\n",
            "<re.Match object; span=(15, 16), match='o'>\n",
            "<re.Match object; span=(16, 17), match='p'>\n",
            "<re.Match object; span=(17, 18), match='q'>\n",
            "<re.Match object; span=(18, 19), match='u'>\n",
            "<re.Match object; span=(19, 20), match='r'>\n",
            "<re.Match object; span=(20, 21), match='t'>\n",
            "<re.Match object; span=(21, 22), match='u'>\n",
            "<re.Match object; span=(22, 23), match='v'>\n",
            "<re.Match object; span=(23, 24), match='w'>\n",
            "<re.Match object; span=(24, 25), match='x'>\n",
            "<re.Match object; span=(25, 26), match='y'>\n",
            "<re.Match object; span=(26, 27), match='z'>\n",
            "<re.Match object; span=(27, 28), match='\\n'>\n",
            "<re.Match object; span=(28, 29), match='A'>\n",
            "<re.Match object; span=(29, 30), match='B'>\n",
            "<re.Match object; span=(30, 31), match='C'>\n",
            "<re.Match object; span=(31, 32), match='D'>\n",
            "<re.Match object; span=(32, 33), match='E'>\n",
            "<re.Match object; span=(33, 34), match='F'>\n",
            "<re.Match object; span=(34, 35), match='G'>\n",
            "<re.Match object; span=(35, 36), match='H'>\n",
            "<re.Match object; span=(36, 37), match='I'>\n",
            "<re.Match object; span=(37, 38), match='J'>\n",
            "<re.Match object; span=(38, 39), match='K'>\n",
            "<re.Match object; span=(39, 40), match='L'>\n",
            "<re.Match object; span=(40, 41), match='M'>\n",
            "<re.Match object; span=(41, 42), match='N'>\n",
            "<re.Match object; span=(42, 43), match='O'>\n",
            "<re.Match object; span=(43, 44), match='P'>\n",
            "<re.Match object; span=(44, 45), match='Q'>\n",
            "<re.Match object; span=(45, 46), match='R'>\n",
            "<re.Match object; span=(46, 47), match='S'>\n",
            "<re.Match object; span=(47, 48), match='T'>\n",
            "<re.Match object; span=(48, 49), match='U'>\n",
            "<re.Match object; span=(49, 50), match='V'>\n",
            "<re.Match object; span=(50, 51), match='W'>\n",
            "<re.Match object; span=(51, 52), match='X'>\n",
            "<re.Match object; span=(52, 53), match='Y'>\n",
            "<re.Match object; span=(53, 54), match='Z'>\n",
            "<re.Match object; span=(54, 55), match='\\n'>\n",
            "<re.Match object; span=(65, 66), match='\\n'>\n",
            "<re.Match object; span=(66, 67), match='H'>\n",
            "<re.Match object; span=(67, 68), match='a'>\n",
            "<re.Match object; span=(68, 69), match=' '>\n",
            "<re.Match object; span=(69, 70), match='H'>\n",
            "<re.Match object; span=(70, 71), match='a'>\n",
            "<re.Match object; span=(71, 72), match='H'>\n",
            "<re.Match object; span=(72, 73), match='a'>\n",
            "<re.Match object; span=(73, 74), match='\\n'>\n",
            "<re.Match object; span=(74, 75), match='M'>\n",
            "<re.Match object; span=(75, 76), match='e'>\n",
            "<re.Match object; span=(76, 77), match='t'>\n",
            "<re.Match object; span=(77, 78), match='a'>\n",
            "<re.Match object; span=(78, 79), match='C'>\n",
            "<re.Match object; span=(79, 80), match='h'>\n",
            "<re.Match object; span=(80, 81), match='a'>\n",
            "<re.Match object; span=(81, 82), match='r'>\n",
            "<re.Match object; span=(82, 83), match='a'>\n",
            "<re.Match object; span=(83, 84), match='c'>\n",
            "<re.Match object; span=(84, 85), match='t'>\n",
            "<re.Match object; span=(85, 86), match='e'>\n",
            "<re.Match object; span=(86, 87), match='r'>\n",
            "<re.Match object; span=(87, 88), match='s'>\n",
            "<re.Match object; span=(88, 89), match=' '>\n",
            "<re.Match object; span=(89, 90), match='('>\n",
            "<re.Match object; span=(90, 91), match='N'>\n",
            "<re.Match object; span=(91, 92), match='e'>\n",
            "<re.Match object; span=(92, 93), match='e'>\n",
            "<re.Match object; span=(93, 94), match='d'>\n",
            "<re.Match object; span=(94, 95), match=' '>\n",
            "<re.Match object; span=(95, 96), match='t'>\n",
            "<re.Match object; span=(96, 97), match='o'>\n",
            "<re.Match object; span=(97, 98), match=' '>\n",
            "<re.Match object; span=(98, 99), match='b'>\n",
            "<re.Match object; span=(99, 100), match='e'>\n",
            "<re.Match object; span=(100, 101), match=' '>\n",
            "<re.Match object; span=(101, 102), match='e'>\n",
            "<re.Match object; span=(102, 103), match='s'>\n",
            "<re.Match object; span=(103, 104), match='c'>\n",
            "<re.Match object; span=(104, 105), match='a'>\n",
            "<re.Match object; span=(105, 106), match='p'>\n",
            "<re.Match object; span=(106, 107), match='e'>\n",
            "<re.Match object; span=(107, 108), match='d'>\n",
            "<re.Match object; span=(108, 109), match=')'>\n",
            "<re.Match object; span=(109, 110), match=':'>\n",
            "<re.Match object; span=(110, 111), match='\\n'>\n",
            "<re.Match object; span=(111, 112), match='.'>\n",
            "<re.Match object; span=(112, 113), match=' '>\n",
            "<re.Match object; span=(113, 114), match='^'>\n",
            "<re.Match object; span=(114, 115), match=' '>\n",
            "<re.Match object; span=(115, 116), match='$'>\n",
            "<re.Match object; span=(116, 117), match=' '>\n",
            "<re.Match object; span=(117, 118), match='*'>\n",
            "<re.Match object; span=(118, 119), match=' '>\n",
            "<re.Match object; span=(119, 120), match='+'>\n",
            "<re.Match object; span=(120, 121), match=' '>\n",
            "<re.Match object; span=(121, 122), match='?'>\n",
            "<re.Match object; span=(122, 123), match=' '>\n",
            "<re.Match object; span=(123, 124), match='{'>\n",
            "<re.Match object; span=(124, 125), match=' '>\n",
            "<re.Match object; span=(125, 126), match='}'>\n",
            "<re.Match object; span=(126, 127), match=' '>\n",
            "<re.Match object; span=(127, 128), match='['>\n",
            "<re.Match object; span=(128, 129), match=' '>\n",
            "<re.Match object; span=(129, 130), match=']'>\n",
            "<re.Match object; span=(130, 131), match=' '>\n",
            "<re.Match object; span=(131, 132), match='\\\\'>\n",
            "<re.Match object; span=(132, 133), match=' '>\n",
            "<re.Match object; span=(133, 134), match='|'>\n",
            "<re.Match object; span=(134, 135), match=' '>\n",
            "<re.Match object; span=(135, 136), match='('>\n",
            "<re.Match object; span=(136, 137), match=' '>\n",
            "<re.Match object; span=(137, 138), match=')'>\n",
            "<re.Match object; span=(138, 139), match='\\n'>\n",
            "<re.Match object; span=(139, 140), match='c'>\n",
            "<re.Match object; span=(140, 141), match='o'>\n",
            "<re.Match object; span=(141, 142), match='r'>\n",
            "<re.Match object; span=(142, 143), match='e'>\n",
            "<re.Match object; span=(143, 144), match='y'>\n",
            "<re.Match object; span=(144, 145), match='m'>\n",
            "<re.Match object; span=(145, 146), match='s'>\n",
            "<re.Match object; span=(146, 147), match='.'>\n",
            "<re.Match object; span=(147, 148), match='c'>\n",
            "<re.Match object; span=(148, 149), match='o'>\n",
            "<re.Match object; span=(149, 150), match='m'>\n",
            "<re.Match object; span=(150, 151), match='\\n'>\n",
            "<re.Match object; span=(154, 155), match='-'>\n",
            "<re.Match object; span=(158, 159), match='-'>\n",
            "<re.Match object; span=(163, 164), match='\\n'>\n",
            "<re.Match object; span=(167, 168), match='.'>\n",
            "<re.Match object; span=(171, 172), match='.'>\n",
            "<re.Match object; span=(176, 177), match='\\n'>\n",
            "<re.Match object; span=(180, 181), match='*'>\n",
            "<re.Match object; span=(184, 185), match='*'>\n",
            "<re.Match object; span=(189, 190), match='\\n'>\n",
            "<re.Match object; span=(193, 194), match='-'>\n",
            "<re.Match object; span=(197, 198), match='-'>\n",
            "<re.Match object; span=(202, 203), match='\\n'>\n",
            "<re.Match object; span=(206, 207), match='-'>\n",
            "<re.Match object; span=(210, 211), match='-'>\n",
            "<re.Match object; span=(215, 216), match='\\n'>\n",
            "<re.Match object; span=(216, 217), match='M'>\n",
            "<re.Match object; span=(217, 218), match='r'>\n",
            "<re.Match object; span=(218, 219), match='.'>\n",
            "<re.Match object; span=(219, 220), match=' '>\n",
            "<re.Match object; span=(220, 221), match='S'>\n",
            "<re.Match object; span=(221, 222), match='c'>\n",
            "<re.Match object; span=(222, 223), match='h'>\n",
            "<re.Match object; span=(223, 224), match='a'>\n",
            "<re.Match object; span=(224, 225), match='f'>\n",
            "<re.Match object; span=(225, 226), match='e'>\n",
            "<re.Match object; span=(226, 227), match='r'>\n",
            "<re.Match object; span=(227, 228), match='\\n'>\n",
            "<re.Match object; span=(228, 229), match='M'>\n",
            "<re.Match object; span=(229, 230), match='r'>\n",
            "<re.Match object; span=(230, 231), match=' '>\n",
            "<re.Match object; span=(231, 232), match='S'>\n",
            "<re.Match object; span=(232, 233), match='m'>\n",
            "<re.Match object; span=(233, 234), match='i'>\n",
            "<re.Match object; span=(234, 235), match='t'>\n",
            "<re.Match object; span=(235, 236), match='h'>\n",
            "<re.Match object; span=(236, 237), match='\\n'>\n",
            "<re.Match object; span=(237, 238), match='M'>\n",
            "<re.Match object; span=(238, 239), match='s'>\n",
            "<re.Match object; span=(239, 240), match=' '>\n",
            "<re.Match object; span=(240, 241), match='D'>\n",
            "<re.Match object; span=(241, 242), match='a'>\n",
            "<re.Match object; span=(242, 243), match='v'>\n",
            "<re.Match object; span=(243, 244), match='i'>\n",
            "<re.Match object; span=(244, 245), match='s'>\n",
            "<re.Match object; span=(245, 246), match='\\n'>\n",
            "<re.Match object; span=(246, 247), match='M'>\n",
            "<re.Match object; span=(247, 248), match='r'>\n",
            "<re.Match object; span=(248, 249), match='s'>\n",
            "<re.Match object; span=(249, 250), match='.'>\n",
            "<re.Match object; span=(250, 251), match=' '>\n",
            "<re.Match object; span=(251, 252), match='R'>\n",
            "<re.Match object; span=(252, 253), match='o'>\n",
            "<re.Match object; span=(253, 254), match='b'>\n",
            "<re.Match object; span=(254, 255), match='i'>\n",
            "<re.Match object; span=(255, 256), match='n'>\n",
            "<re.Match object; span=(256, 257), match='s'>\n",
            "<re.Match object; span=(257, 258), match='o'>\n",
            "<re.Match object; span=(258, 259), match='n'>\n",
            "<re.Match object; span=(259, 260), match='\\n'>\n",
            "<re.Match object; span=(260, 261), match='M'>\n",
            "<re.Match object; span=(261, 262), match='r'>\n",
            "<re.Match object; span=(262, 263), match='.'>\n",
            "<re.Match object; span=(263, 264), match=' '>\n",
            "<re.Match object; span=(264, 265), match='T'>\n",
            "<re.Match object; span=(265, 266), match='\\n'>\n"
          ],
          "name": "stdout"
        }
      ]
    },
    {
      "cell_type": "code",
      "metadata": {
        "colab": {
          "base_uri": "https://localhost:8080/"
        },
        "id": "dbCxaoxesXB1",
        "outputId": "ead46bfe-3433-478a-c575-ee309738babd"
      },
      "source": [
        "#S not a space \r\n",
        "#w is lowe case or upper case or digits or underscores\r\n",
        "pattern=re.compile(r'\\w')\r\n",
        "#finditer returns iterator\r\n",
        "matches=pattern.finditer(text_to_search)\r\n",
        "for match in matches:\r\n",
        "  print(match)"
      ],
      "execution_count": 11,
      "outputs": [
        {
          "output_type": "stream",
          "text": [
            "<re.Match object; span=(1, 2), match='a'>\n",
            "<re.Match object; span=(2, 3), match='b'>\n",
            "<re.Match object; span=(3, 4), match='c'>\n",
            "<re.Match object; span=(4, 5), match='d'>\n",
            "<re.Match object; span=(5, 6), match='e'>\n",
            "<re.Match object; span=(6, 7), match='f'>\n",
            "<re.Match object; span=(7, 8), match='g'>\n",
            "<re.Match object; span=(8, 9), match='h'>\n",
            "<re.Match object; span=(9, 10), match='i'>\n",
            "<re.Match object; span=(10, 11), match='j'>\n",
            "<re.Match object; span=(11, 12), match='k'>\n",
            "<re.Match object; span=(12, 13), match='l'>\n",
            "<re.Match object; span=(13, 14), match='m'>\n",
            "<re.Match object; span=(14, 15), match='n'>\n",
            "<re.Match object; span=(15, 16), match='o'>\n",
            "<re.Match object; span=(16, 17), match='p'>\n",
            "<re.Match object; span=(17, 18), match='q'>\n",
            "<re.Match object; span=(18, 19), match='u'>\n",
            "<re.Match object; span=(19, 20), match='r'>\n",
            "<re.Match object; span=(20, 21), match='t'>\n",
            "<re.Match object; span=(21, 22), match='u'>\n",
            "<re.Match object; span=(22, 23), match='v'>\n",
            "<re.Match object; span=(23, 24), match='w'>\n",
            "<re.Match object; span=(24, 25), match='x'>\n",
            "<re.Match object; span=(25, 26), match='y'>\n",
            "<re.Match object; span=(26, 27), match='z'>\n",
            "<re.Match object; span=(28, 29), match='A'>\n",
            "<re.Match object; span=(29, 30), match='B'>\n",
            "<re.Match object; span=(30, 31), match='C'>\n",
            "<re.Match object; span=(31, 32), match='D'>\n",
            "<re.Match object; span=(32, 33), match='E'>\n",
            "<re.Match object; span=(33, 34), match='F'>\n",
            "<re.Match object; span=(34, 35), match='G'>\n",
            "<re.Match object; span=(35, 36), match='H'>\n",
            "<re.Match object; span=(36, 37), match='I'>\n",
            "<re.Match object; span=(37, 38), match='J'>\n",
            "<re.Match object; span=(38, 39), match='K'>\n",
            "<re.Match object; span=(39, 40), match='L'>\n",
            "<re.Match object; span=(40, 41), match='M'>\n",
            "<re.Match object; span=(41, 42), match='N'>\n",
            "<re.Match object; span=(42, 43), match='O'>\n",
            "<re.Match object; span=(43, 44), match='P'>\n",
            "<re.Match object; span=(44, 45), match='Q'>\n",
            "<re.Match object; span=(45, 46), match='R'>\n",
            "<re.Match object; span=(46, 47), match='S'>\n",
            "<re.Match object; span=(47, 48), match='T'>\n",
            "<re.Match object; span=(48, 49), match='U'>\n",
            "<re.Match object; span=(49, 50), match='V'>\n",
            "<re.Match object; span=(50, 51), match='W'>\n",
            "<re.Match object; span=(51, 52), match='X'>\n",
            "<re.Match object; span=(52, 53), match='Y'>\n",
            "<re.Match object; span=(53, 54), match='Z'>\n",
            "<re.Match object; span=(55, 56), match='1'>\n",
            "<re.Match object; span=(56, 57), match='2'>\n",
            "<re.Match object; span=(57, 58), match='3'>\n",
            "<re.Match object; span=(58, 59), match='4'>\n",
            "<re.Match object; span=(59, 60), match='5'>\n",
            "<re.Match object; span=(60, 61), match='6'>\n",
            "<re.Match object; span=(61, 62), match='7'>\n",
            "<re.Match object; span=(62, 63), match='8'>\n",
            "<re.Match object; span=(63, 64), match='9'>\n",
            "<re.Match object; span=(64, 65), match='0'>\n",
            "<re.Match object; span=(66, 67), match='H'>\n",
            "<re.Match object; span=(67, 68), match='a'>\n",
            "<re.Match object; span=(69, 70), match='H'>\n",
            "<re.Match object; span=(70, 71), match='a'>\n",
            "<re.Match object; span=(71, 72), match='H'>\n",
            "<re.Match object; span=(72, 73), match='a'>\n",
            "<re.Match object; span=(74, 75), match='M'>\n",
            "<re.Match object; span=(75, 76), match='e'>\n",
            "<re.Match object; span=(76, 77), match='t'>\n",
            "<re.Match object; span=(77, 78), match='a'>\n",
            "<re.Match object; span=(78, 79), match='C'>\n",
            "<re.Match object; span=(79, 80), match='h'>\n",
            "<re.Match object; span=(80, 81), match='a'>\n",
            "<re.Match object; span=(81, 82), match='r'>\n",
            "<re.Match object; span=(82, 83), match='a'>\n",
            "<re.Match object; span=(83, 84), match='c'>\n",
            "<re.Match object; span=(84, 85), match='t'>\n",
            "<re.Match object; span=(85, 86), match='e'>\n",
            "<re.Match object; span=(86, 87), match='r'>\n",
            "<re.Match object; span=(87, 88), match='s'>\n",
            "<re.Match object; span=(90, 91), match='N'>\n",
            "<re.Match object; span=(91, 92), match='e'>\n",
            "<re.Match object; span=(92, 93), match='e'>\n",
            "<re.Match object; span=(93, 94), match='d'>\n",
            "<re.Match object; span=(95, 96), match='t'>\n",
            "<re.Match object; span=(96, 97), match='o'>\n",
            "<re.Match object; span=(98, 99), match='b'>\n",
            "<re.Match object; span=(99, 100), match='e'>\n",
            "<re.Match object; span=(101, 102), match='e'>\n",
            "<re.Match object; span=(102, 103), match='s'>\n",
            "<re.Match object; span=(103, 104), match='c'>\n",
            "<re.Match object; span=(104, 105), match='a'>\n",
            "<re.Match object; span=(105, 106), match='p'>\n",
            "<re.Match object; span=(106, 107), match='e'>\n",
            "<re.Match object; span=(107, 108), match='d'>\n",
            "<re.Match object; span=(139, 140), match='c'>\n",
            "<re.Match object; span=(140, 141), match='o'>\n",
            "<re.Match object; span=(141, 142), match='r'>\n",
            "<re.Match object; span=(142, 143), match='e'>\n",
            "<re.Match object; span=(143, 144), match='y'>\n",
            "<re.Match object; span=(144, 145), match='m'>\n",
            "<re.Match object; span=(145, 146), match='s'>\n",
            "<re.Match object; span=(147, 148), match='c'>\n",
            "<re.Match object; span=(148, 149), match='o'>\n",
            "<re.Match object; span=(149, 150), match='m'>\n",
            "<re.Match object; span=(151, 152), match='3'>\n",
            "<re.Match object; span=(152, 153), match='2'>\n",
            "<re.Match object; span=(153, 154), match='1'>\n",
            "<re.Match object; span=(155, 156), match='5'>\n",
            "<re.Match object; span=(156, 157), match='5'>\n",
            "<re.Match object; span=(157, 158), match='5'>\n",
            "<re.Match object; span=(159, 160), match='4'>\n",
            "<re.Match object; span=(160, 161), match='3'>\n",
            "<re.Match object; span=(161, 162), match='2'>\n",
            "<re.Match object; span=(162, 163), match='1'>\n",
            "<re.Match object; span=(164, 165), match='1'>\n",
            "<re.Match object; span=(165, 166), match='2'>\n",
            "<re.Match object; span=(166, 167), match='3'>\n",
            "<re.Match object; span=(168, 169), match='5'>\n",
            "<re.Match object; span=(169, 170), match='5'>\n",
            "<re.Match object; span=(170, 171), match='5'>\n",
            "<re.Match object; span=(172, 173), match='1'>\n",
            "<re.Match object; span=(173, 174), match='2'>\n",
            "<re.Match object; span=(174, 175), match='3'>\n",
            "<re.Match object; span=(175, 176), match='4'>\n",
            "<re.Match object; span=(177, 178), match='1'>\n",
            "<re.Match object; span=(178, 179), match='2'>\n",
            "<re.Match object; span=(179, 180), match='3'>\n",
            "<re.Match object; span=(181, 182), match='5'>\n",
            "<re.Match object; span=(182, 183), match='5'>\n",
            "<re.Match object; span=(183, 184), match='5'>\n",
            "<re.Match object; span=(185, 186), match='1'>\n",
            "<re.Match object; span=(186, 187), match='2'>\n",
            "<re.Match object; span=(187, 188), match='3'>\n",
            "<re.Match object; span=(188, 189), match='4'>\n",
            "<re.Match object; span=(190, 191), match='8'>\n",
            "<re.Match object; span=(191, 192), match='0'>\n",
            "<re.Match object; span=(192, 193), match='0'>\n",
            "<re.Match object; span=(194, 195), match='5'>\n",
            "<re.Match object; span=(195, 196), match='5'>\n",
            "<re.Match object; span=(196, 197), match='5'>\n",
            "<re.Match object; span=(198, 199), match='1'>\n",
            "<re.Match object; span=(199, 200), match='2'>\n",
            "<re.Match object; span=(200, 201), match='3'>\n",
            "<re.Match object; span=(201, 202), match='4'>\n",
            "<re.Match object; span=(203, 204), match='9'>\n",
            "<re.Match object; span=(204, 205), match='0'>\n",
            "<re.Match object; span=(205, 206), match='0'>\n",
            "<re.Match object; span=(207, 208), match='5'>\n",
            "<re.Match object; span=(208, 209), match='5'>\n",
            "<re.Match object; span=(209, 210), match='5'>\n",
            "<re.Match object; span=(211, 212), match='1'>\n",
            "<re.Match object; span=(212, 213), match='2'>\n",
            "<re.Match object; span=(213, 214), match='3'>\n",
            "<re.Match object; span=(214, 215), match='4'>\n",
            "<re.Match object; span=(216, 217), match='M'>\n",
            "<re.Match object; span=(217, 218), match='r'>\n",
            "<re.Match object; span=(220, 221), match='S'>\n",
            "<re.Match object; span=(221, 222), match='c'>\n",
            "<re.Match object; span=(222, 223), match='h'>\n",
            "<re.Match object; span=(223, 224), match='a'>\n",
            "<re.Match object; span=(224, 225), match='f'>\n",
            "<re.Match object; span=(225, 226), match='e'>\n",
            "<re.Match object; span=(226, 227), match='r'>\n",
            "<re.Match object; span=(228, 229), match='M'>\n",
            "<re.Match object; span=(229, 230), match='r'>\n",
            "<re.Match object; span=(231, 232), match='S'>\n",
            "<re.Match object; span=(232, 233), match='m'>\n",
            "<re.Match object; span=(233, 234), match='i'>\n",
            "<re.Match object; span=(234, 235), match='t'>\n",
            "<re.Match object; span=(235, 236), match='h'>\n",
            "<re.Match object; span=(237, 238), match='M'>\n",
            "<re.Match object; span=(238, 239), match='s'>\n",
            "<re.Match object; span=(240, 241), match='D'>\n",
            "<re.Match object; span=(241, 242), match='a'>\n",
            "<re.Match object; span=(242, 243), match='v'>\n",
            "<re.Match object; span=(243, 244), match='i'>\n",
            "<re.Match object; span=(244, 245), match='s'>\n",
            "<re.Match object; span=(246, 247), match='M'>\n",
            "<re.Match object; span=(247, 248), match='r'>\n",
            "<re.Match object; span=(248, 249), match='s'>\n",
            "<re.Match object; span=(251, 252), match='R'>\n",
            "<re.Match object; span=(252, 253), match='o'>\n",
            "<re.Match object; span=(253, 254), match='b'>\n",
            "<re.Match object; span=(254, 255), match='i'>\n",
            "<re.Match object; span=(255, 256), match='n'>\n",
            "<re.Match object; span=(256, 257), match='s'>\n",
            "<re.Match object; span=(257, 258), match='o'>\n",
            "<re.Match object; span=(258, 259), match='n'>\n",
            "<re.Match object; span=(260, 261), match='M'>\n",
            "<re.Match object; span=(261, 262), match='r'>\n",
            "<re.Match object; span=(264, 265), match='T'>\n"
          ],
          "name": "stdout"
        }
      ]
    },
    {
      "cell_type": "code",
      "metadata": {
        "colab": {
          "base_uri": "https://localhost:8080/"
        },
        "id": "y-5ETvPesW_V",
        "outputId": "44e7e25e-32bc-45c8-d8fb-1f903ba132a2"
      },
      "source": [
        "#Not cany charcters\r\n",
        "pattern=re.compile(r'\\W')\r\n",
        "#finditer returns iterator\r\n",
        "matches=pattern.finditer(text_to_search)\r\n",
        "for match in matches:\r\n",
        "  print(match)"
      ],
      "execution_count": 12,
      "outputs": [
        {
          "output_type": "stream",
          "text": [
            "<re.Match object; span=(0, 1), match='\\n'>\n",
            "<re.Match object; span=(27, 28), match='\\n'>\n",
            "<re.Match object; span=(54, 55), match='\\n'>\n",
            "<re.Match object; span=(65, 66), match='\\n'>\n",
            "<re.Match object; span=(68, 69), match=' '>\n",
            "<re.Match object; span=(73, 74), match='\\n'>\n",
            "<re.Match object; span=(88, 89), match=' '>\n",
            "<re.Match object; span=(89, 90), match='('>\n",
            "<re.Match object; span=(94, 95), match=' '>\n",
            "<re.Match object; span=(97, 98), match=' '>\n",
            "<re.Match object; span=(100, 101), match=' '>\n",
            "<re.Match object; span=(108, 109), match=')'>\n",
            "<re.Match object; span=(109, 110), match=':'>\n",
            "<re.Match object; span=(110, 111), match='\\n'>\n",
            "<re.Match object; span=(111, 112), match='.'>\n",
            "<re.Match object; span=(112, 113), match=' '>\n",
            "<re.Match object; span=(113, 114), match='^'>\n",
            "<re.Match object; span=(114, 115), match=' '>\n",
            "<re.Match object; span=(115, 116), match='$'>\n",
            "<re.Match object; span=(116, 117), match=' '>\n",
            "<re.Match object; span=(117, 118), match='*'>\n",
            "<re.Match object; span=(118, 119), match=' '>\n",
            "<re.Match object; span=(119, 120), match='+'>\n",
            "<re.Match object; span=(120, 121), match=' '>\n",
            "<re.Match object; span=(121, 122), match='?'>\n",
            "<re.Match object; span=(122, 123), match=' '>\n",
            "<re.Match object; span=(123, 124), match='{'>\n",
            "<re.Match object; span=(124, 125), match=' '>\n",
            "<re.Match object; span=(125, 126), match='}'>\n",
            "<re.Match object; span=(126, 127), match=' '>\n",
            "<re.Match object; span=(127, 128), match='['>\n",
            "<re.Match object; span=(128, 129), match=' '>\n",
            "<re.Match object; span=(129, 130), match=']'>\n",
            "<re.Match object; span=(130, 131), match=' '>\n",
            "<re.Match object; span=(131, 132), match='\\\\'>\n",
            "<re.Match object; span=(132, 133), match=' '>\n",
            "<re.Match object; span=(133, 134), match='|'>\n",
            "<re.Match object; span=(134, 135), match=' '>\n",
            "<re.Match object; span=(135, 136), match='('>\n",
            "<re.Match object; span=(136, 137), match=' '>\n",
            "<re.Match object; span=(137, 138), match=')'>\n",
            "<re.Match object; span=(138, 139), match='\\n'>\n",
            "<re.Match object; span=(146, 147), match='.'>\n",
            "<re.Match object; span=(150, 151), match='\\n'>\n",
            "<re.Match object; span=(154, 155), match='-'>\n",
            "<re.Match object; span=(158, 159), match='-'>\n",
            "<re.Match object; span=(163, 164), match='\\n'>\n",
            "<re.Match object; span=(167, 168), match='.'>\n",
            "<re.Match object; span=(171, 172), match='.'>\n",
            "<re.Match object; span=(176, 177), match='\\n'>\n",
            "<re.Match object; span=(180, 181), match='*'>\n",
            "<re.Match object; span=(184, 185), match='*'>\n",
            "<re.Match object; span=(189, 190), match='\\n'>\n",
            "<re.Match object; span=(193, 194), match='-'>\n",
            "<re.Match object; span=(197, 198), match='-'>\n",
            "<re.Match object; span=(202, 203), match='\\n'>\n",
            "<re.Match object; span=(206, 207), match='-'>\n",
            "<re.Match object; span=(210, 211), match='-'>\n",
            "<re.Match object; span=(215, 216), match='\\n'>\n",
            "<re.Match object; span=(218, 219), match='.'>\n",
            "<re.Match object; span=(219, 220), match=' '>\n",
            "<re.Match object; span=(227, 228), match='\\n'>\n",
            "<re.Match object; span=(230, 231), match=' '>\n",
            "<re.Match object; span=(236, 237), match='\\n'>\n",
            "<re.Match object; span=(239, 240), match=' '>\n",
            "<re.Match object; span=(245, 246), match='\\n'>\n",
            "<re.Match object; span=(249, 250), match='.'>\n",
            "<re.Match object; span=(250, 251), match=' '>\n",
            "<re.Match object; span=(259, 260), match='\\n'>\n",
            "<re.Match object; span=(262, 263), match='.'>\n",
            "<re.Match object; span=(263, 264), match=' '>\n",
            "<re.Match object; span=(265, 266), match='\\n'>\n"
          ],
          "name": "stdout"
        }
      ]
    },
    {
      "cell_type": "code",
      "metadata": {
        "colab": {
          "base_uri": "https://localhost:8080/"
        },
        "id": "49eyVuuRsW8u",
        "outputId": "122d6dbe-fb9f-4fa9-86d0-9e7668524669"
      },
      "source": [
        "#space matching\r\n",
        "pattern=re.compile(r'\\s')\r\n",
        "#finditer returns iterator\r\n",
        "matches=pattern.finditer(text_to_search)\r\n",
        "for match in matches:\r\n",
        "  print(match)"
      ],
      "execution_count": 13,
      "outputs": [
        {
          "output_type": "stream",
          "text": [
            "<re.Match object; span=(0, 1), match='\\n'>\n",
            "<re.Match object; span=(27, 28), match='\\n'>\n",
            "<re.Match object; span=(54, 55), match='\\n'>\n",
            "<re.Match object; span=(65, 66), match='\\n'>\n",
            "<re.Match object; span=(68, 69), match=' '>\n",
            "<re.Match object; span=(73, 74), match='\\n'>\n",
            "<re.Match object; span=(88, 89), match=' '>\n",
            "<re.Match object; span=(94, 95), match=' '>\n",
            "<re.Match object; span=(97, 98), match=' '>\n",
            "<re.Match object; span=(100, 101), match=' '>\n",
            "<re.Match object; span=(110, 111), match='\\n'>\n",
            "<re.Match object; span=(112, 113), match=' '>\n",
            "<re.Match object; span=(114, 115), match=' '>\n",
            "<re.Match object; span=(116, 117), match=' '>\n",
            "<re.Match object; span=(118, 119), match=' '>\n",
            "<re.Match object; span=(120, 121), match=' '>\n",
            "<re.Match object; span=(122, 123), match=' '>\n",
            "<re.Match object; span=(124, 125), match=' '>\n",
            "<re.Match object; span=(126, 127), match=' '>\n",
            "<re.Match object; span=(128, 129), match=' '>\n",
            "<re.Match object; span=(130, 131), match=' '>\n",
            "<re.Match object; span=(132, 133), match=' '>\n",
            "<re.Match object; span=(134, 135), match=' '>\n",
            "<re.Match object; span=(136, 137), match=' '>\n",
            "<re.Match object; span=(138, 139), match='\\n'>\n",
            "<re.Match object; span=(150, 151), match='\\n'>\n",
            "<re.Match object; span=(163, 164), match='\\n'>\n",
            "<re.Match object; span=(176, 177), match='\\n'>\n",
            "<re.Match object; span=(189, 190), match='\\n'>\n",
            "<re.Match object; span=(202, 203), match='\\n'>\n",
            "<re.Match object; span=(215, 216), match='\\n'>\n",
            "<re.Match object; span=(219, 220), match=' '>\n",
            "<re.Match object; span=(227, 228), match='\\n'>\n",
            "<re.Match object; span=(230, 231), match=' '>\n",
            "<re.Match object; span=(236, 237), match='\\n'>\n",
            "<re.Match object; span=(239, 240), match=' '>\n",
            "<re.Match object; span=(245, 246), match='\\n'>\n",
            "<re.Match object; span=(250, 251), match=' '>\n",
            "<re.Match object; span=(259, 260), match='\\n'>\n",
            "<re.Match object; span=(263, 264), match=' '>\n",
            "<re.Match object; span=(265, 266), match='\\n'>\n"
          ],
          "name": "stdout"
        }
      ]
    },
    {
      "cell_type": "code",
      "metadata": {
        "colab": {
          "base_uri": "https://localhost:8080/"
        },
        "id": "Afs9TomysW5_",
        "outputId": "8d568ca5-0f3e-467b-e11b-7db4f917b4a1"
      },
      "source": [
        "#not a space\r\n",
        "pattern=re.compile(r'\\S')\r\n",
        "#finditer returns iterator\r\n",
        "matches=pattern.finditer(text_to_search)\r\n",
        "for match in matches:\r\n",
        "  print(match)"
      ],
      "execution_count": 14,
      "outputs": [
        {
          "output_type": "stream",
          "text": [
            "<re.Match object; span=(1, 2), match='a'>\n",
            "<re.Match object; span=(2, 3), match='b'>\n",
            "<re.Match object; span=(3, 4), match='c'>\n",
            "<re.Match object; span=(4, 5), match='d'>\n",
            "<re.Match object; span=(5, 6), match='e'>\n",
            "<re.Match object; span=(6, 7), match='f'>\n",
            "<re.Match object; span=(7, 8), match='g'>\n",
            "<re.Match object; span=(8, 9), match='h'>\n",
            "<re.Match object; span=(9, 10), match='i'>\n",
            "<re.Match object; span=(10, 11), match='j'>\n",
            "<re.Match object; span=(11, 12), match='k'>\n",
            "<re.Match object; span=(12, 13), match='l'>\n",
            "<re.Match object; span=(13, 14), match='m'>\n",
            "<re.Match object; span=(14, 15), match='n'>\n",
            "<re.Match object; span=(15, 16), match='o'>\n",
            "<re.Match object; span=(16, 17), match='p'>\n",
            "<re.Match object; span=(17, 18), match='q'>\n",
            "<re.Match object; span=(18, 19), match='u'>\n",
            "<re.Match object; span=(19, 20), match='r'>\n",
            "<re.Match object; span=(20, 21), match='t'>\n",
            "<re.Match object; span=(21, 22), match='u'>\n",
            "<re.Match object; span=(22, 23), match='v'>\n",
            "<re.Match object; span=(23, 24), match='w'>\n",
            "<re.Match object; span=(24, 25), match='x'>\n",
            "<re.Match object; span=(25, 26), match='y'>\n",
            "<re.Match object; span=(26, 27), match='z'>\n",
            "<re.Match object; span=(28, 29), match='A'>\n",
            "<re.Match object; span=(29, 30), match='B'>\n",
            "<re.Match object; span=(30, 31), match='C'>\n",
            "<re.Match object; span=(31, 32), match='D'>\n",
            "<re.Match object; span=(32, 33), match='E'>\n",
            "<re.Match object; span=(33, 34), match='F'>\n",
            "<re.Match object; span=(34, 35), match='G'>\n",
            "<re.Match object; span=(35, 36), match='H'>\n",
            "<re.Match object; span=(36, 37), match='I'>\n",
            "<re.Match object; span=(37, 38), match='J'>\n",
            "<re.Match object; span=(38, 39), match='K'>\n",
            "<re.Match object; span=(39, 40), match='L'>\n",
            "<re.Match object; span=(40, 41), match='M'>\n",
            "<re.Match object; span=(41, 42), match='N'>\n",
            "<re.Match object; span=(42, 43), match='O'>\n",
            "<re.Match object; span=(43, 44), match='P'>\n",
            "<re.Match object; span=(44, 45), match='Q'>\n",
            "<re.Match object; span=(45, 46), match='R'>\n",
            "<re.Match object; span=(46, 47), match='S'>\n",
            "<re.Match object; span=(47, 48), match='T'>\n",
            "<re.Match object; span=(48, 49), match='U'>\n",
            "<re.Match object; span=(49, 50), match='V'>\n",
            "<re.Match object; span=(50, 51), match='W'>\n",
            "<re.Match object; span=(51, 52), match='X'>\n",
            "<re.Match object; span=(52, 53), match='Y'>\n",
            "<re.Match object; span=(53, 54), match='Z'>\n",
            "<re.Match object; span=(55, 56), match='1'>\n",
            "<re.Match object; span=(56, 57), match='2'>\n",
            "<re.Match object; span=(57, 58), match='3'>\n",
            "<re.Match object; span=(58, 59), match='4'>\n",
            "<re.Match object; span=(59, 60), match='5'>\n",
            "<re.Match object; span=(60, 61), match='6'>\n",
            "<re.Match object; span=(61, 62), match='7'>\n",
            "<re.Match object; span=(62, 63), match='8'>\n",
            "<re.Match object; span=(63, 64), match='9'>\n",
            "<re.Match object; span=(64, 65), match='0'>\n",
            "<re.Match object; span=(66, 67), match='H'>\n",
            "<re.Match object; span=(67, 68), match='a'>\n",
            "<re.Match object; span=(69, 70), match='H'>\n",
            "<re.Match object; span=(70, 71), match='a'>\n",
            "<re.Match object; span=(71, 72), match='H'>\n",
            "<re.Match object; span=(72, 73), match='a'>\n",
            "<re.Match object; span=(74, 75), match='M'>\n",
            "<re.Match object; span=(75, 76), match='e'>\n",
            "<re.Match object; span=(76, 77), match='t'>\n",
            "<re.Match object; span=(77, 78), match='a'>\n",
            "<re.Match object; span=(78, 79), match='C'>\n",
            "<re.Match object; span=(79, 80), match='h'>\n",
            "<re.Match object; span=(80, 81), match='a'>\n",
            "<re.Match object; span=(81, 82), match='r'>\n",
            "<re.Match object; span=(82, 83), match='a'>\n",
            "<re.Match object; span=(83, 84), match='c'>\n",
            "<re.Match object; span=(84, 85), match='t'>\n",
            "<re.Match object; span=(85, 86), match='e'>\n",
            "<re.Match object; span=(86, 87), match='r'>\n",
            "<re.Match object; span=(87, 88), match='s'>\n",
            "<re.Match object; span=(89, 90), match='('>\n",
            "<re.Match object; span=(90, 91), match='N'>\n",
            "<re.Match object; span=(91, 92), match='e'>\n",
            "<re.Match object; span=(92, 93), match='e'>\n",
            "<re.Match object; span=(93, 94), match='d'>\n",
            "<re.Match object; span=(95, 96), match='t'>\n",
            "<re.Match object; span=(96, 97), match='o'>\n",
            "<re.Match object; span=(98, 99), match='b'>\n",
            "<re.Match object; span=(99, 100), match='e'>\n",
            "<re.Match object; span=(101, 102), match='e'>\n",
            "<re.Match object; span=(102, 103), match='s'>\n",
            "<re.Match object; span=(103, 104), match='c'>\n",
            "<re.Match object; span=(104, 105), match='a'>\n",
            "<re.Match object; span=(105, 106), match='p'>\n",
            "<re.Match object; span=(106, 107), match='e'>\n",
            "<re.Match object; span=(107, 108), match='d'>\n",
            "<re.Match object; span=(108, 109), match=')'>\n",
            "<re.Match object; span=(109, 110), match=':'>\n",
            "<re.Match object; span=(111, 112), match='.'>\n",
            "<re.Match object; span=(113, 114), match='^'>\n",
            "<re.Match object; span=(115, 116), match='$'>\n",
            "<re.Match object; span=(117, 118), match='*'>\n",
            "<re.Match object; span=(119, 120), match='+'>\n",
            "<re.Match object; span=(121, 122), match='?'>\n",
            "<re.Match object; span=(123, 124), match='{'>\n",
            "<re.Match object; span=(125, 126), match='}'>\n",
            "<re.Match object; span=(127, 128), match='['>\n",
            "<re.Match object; span=(129, 130), match=']'>\n",
            "<re.Match object; span=(131, 132), match='\\\\'>\n",
            "<re.Match object; span=(133, 134), match='|'>\n",
            "<re.Match object; span=(135, 136), match='('>\n",
            "<re.Match object; span=(137, 138), match=')'>\n",
            "<re.Match object; span=(139, 140), match='c'>\n",
            "<re.Match object; span=(140, 141), match='o'>\n",
            "<re.Match object; span=(141, 142), match='r'>\n",
            "<re.Match object; span=(142, 143), match='e'>\n",
            "<re.Match object; span=(143, 144), match='y'>\n",
            "<re.Match object; span=(144, 145), match='m'>\n",
            "<re.Match object; span=(145, 146), match='s'>\n",
            "<re.Match object; span=(146, 147), match='.'>\n",
            "<re.Match object; span=(147, 148), match='c'>\n",
            "<re.Match object; span=(148, 149), match='o'>\n",
            "<re.Match object; span=(149, 150), match='m'>\n",
            "<re.Match object; span=(151, 152), match='3'>\n",
            "<re.Match object; span=(152, 153), match='2'>\n",
            "<re.Match object; span=(153, 154), match='1'>\n",
            "<re.Match object; span=(154, 155), match='-'>\n",
            "<re.Match object; span=(155, 156), match='5'>\n",
            "<re.Match object; span=(156, 157), match='5'>\n",
            "<re.Match object; span=(157, 158), match='5'>\n",
            "<re.Match object; span=(158, 159), match='-'>\n",
            "<re.Match object; span=(159, 160), match='4'>\n",
            "<re.Match object; span=(160, 161), match='3'>\n",
            "<re.Match object; span=(161, 162), match='2'>\n",
            "<re.Match object; span=(162, 163), match='1'>\n",
            "<re.Match object; span=(164, 165), match='1'>\n",
            "<re.Match object; span=(165, 166), match='2'>\n",
            "<re.Match object; span=(166, 167), match='3'>\n",
            "<re.Match object; span=(167, 168), match='.'>\n",
            "<re.Match object; span=(168, 169), match='5'>\n",
            "<re.Match object; span=(169, 170), match='5'>\n",
            "<re.Match object; span=(170, 171), match='5'>\n",
            "<re.Match object; span=(171, 172), match='.'>\n",
            "<re.Match object; span=(172, 173), match='1'>\n",
            "<re.Match object; span=(173, 174), match='2'>\n",
            "<re.Match object; span=(174, 175), match='3'>\n",
            "<re.Match object; span=(175, 176), match='4'>\n",
            "<re.Match object; span=(177, 178), match='1'>\n",
            "<re.Match object; span=(178, 179), match='2'>\n",
            "<re.Match object; span=(179, 180), match='3'>\n",
            "<re.Match object; span=(180, 181), match='*'>\n",
            "<re.Match object; span=(181, 182), match='5'>\n",
            "<re.Match object; span=(182, 183), match='5'>\n",
            "<re.Match object; span=(183, 184), match='5'>\n",
            "<re.Match object; span=(184, 185), match='*'>\n",
            "<re.Match object; span=(185, 186), match='1'>\n",
            "<re.Match object; span=(186, 187), match='2'>\n",
            "<re.Match object; span=(187, 188), match='3'>\n",
            "<re.Match object; span=(188, 189), match='4'>\n",
            "<re.Match object; span=(190, 191), match='8'>\n",
            "<re.Match object; span=(191, 192), match='0'>\n",
            "<re.Match object; span=(192, 193), match='0'>\n",
            "<re.Match object; span=(193, 194), match='-'>\n",
            "<re.Match object; span=(194, 195), match='5'>\n",
            "<re.Match object; span=(195, 196), match='5'>\n",
            "<re.Match object; span=(196, 197), match='5'>\n",
            "<re.Match object; span=(197, 198), match='-'>\n",
            "<re.Match object; span=(198, 199), match='1'>\n",
            "<re.Match object; span=(199, 200), match='2'>\n",
            "<re.Match object; span=(200, 201), match='3'>\n",
            "<re.Match object; span=(201, 202), match='4'>\n",
            "<re.Match object; span=(203, 204), match='9'>\n",
            "<re.Match object; span=(204, 205), match='0'>\n",
            "<re.Match object; span=(205, 206), match='0'>\n",
            "<re.Match object; span=(206, 207), match='-'>\n",
            "<re.Match object; span=(207, 208), match='5'>\n",
            "<re.Match object; span=(208, 209), match='5'>\n",
            "<re.Match object; span=(209, 210), match='5'>\n",
            "<re.Match object; span=(210, 211), match='-'>\n",
            "<re.Match object; span=(211, 212), match='1'>\n",
            "<re.Match object; span=(212, 213), match='2'>\n",
            "<re.Match object; span=(213, 214), match='3'>\n",
            "<re.Match object; span=(214, 215), match='4'>\n",
            "<re.Match object; span=(216, 217), match='M'>\n",
            "<re.Match object; span=(217, 218), match='r'>\n",
            "<re.Match object; span=(218, 219), match='.'>\n",
            "<re.Match object; span=(220, 221), match='S'>\n",
            "<re.Match object; span=(221, 222), match='c'>\n",
            "<re.Match object; span=(222, 223), match='h'>\n",
            "<re.Match object; span=(223, 224), match='a'>\n",
            "<re.Match object; span=(224, 225), match='f'>\n",
            "<re.Match object; span=(225, 226), match='e'>\n",
            "<re.Match object; span=(226, 227), match='r'>\n",
            "<re.Match object; span=(228, 229), match='M'>\n",
            "<re.Match object; span=(229, 230), match='r'>\n",
            "<re.Match object; span=(231, 232), match='S'>\n",
            "<re.Match object; span=(232, 233), match='m'>\n",
            "<re.Match object; span=(233, 234), match='i'>\n",
            "<re.Match object; span=(234, 235), match='t'>\n",
            "<re.Match object; span=(235, 236), match='h'>\n",
            "<re.Match object; span=(237, 238), match='M'>\n",
            "<re.Match object; span=(238, 239), match='s'>\n",
            "<re.Match object; span=(240, 241), match='D'>\n",
            "<re.Match object; span=(241, 242), match='a'>\n",
            "<re.Match object; span=(242, 243), match='v'>\n",
            "<re.Match object; span=(243, 244), match='i'>\n",
            "<re.Match object; span=(244, 245), match='s'>\n",
            "<re.Match object; span=(246, 247), match='M'>\n",
            "<re.Match object; span=(247, 248), match='r'>\n",
            "<re.Match object; span=(248, 249), match='s'>\n",
            "<re.Match object; span=(249, 250), match='.'>\n",
            "<re.Match object; span=(251, 252), match='R'>\n",
            "<re.Match object; span=(252, 253), match='o'>\n",
            "<re.Match object; span=(253, 254), match='b'>\n",
            "<re.Match object; span=(254, 255), match='i'>\n",
            "<re.Match object; span=(255, 256), match='n'>\n",
            "<re.Match object; span=(256, 257), match='s'>\n",
            "<re.Match object; span=(257, 258), match='o'>\n",
            "<re.Match object; span=(258, 259), match='n'>\n",
            "<re.Match object; span=(260, 261), match='M'>\n",
            "<re.Match object; span=(261, 262), match='r'>\n",
            "<re.Match object; span=(262, 263), match='.'>\n",
            "<re.Match object; span=(264, 265), match='T'>\n"
          ],
          "name": "stdout"
        }
      ]
    },
    {
      "cell_type": "code",
      "metadata": {
        "colab": {
          "base_uri": "https://localhost:8080/"
        },
        "id": "8YHpPNRWsW3h",
        "outputId": "3007812b-e5ce-4af1-c372-7c46c0daa57f"
      },
      "source": [
        "#\\b word boundary\r\n",
        "#last Ha is not matching\r\n",
        "\r\n",
        "pattern=re.compile(r'\\bHa')\r\n",
        "#finditer returns iterator\r\n",
        "matches=pattern.finditer(text_to_search)\r\n",
        "for match in matches:\r\n",
        "  print(match)"
      ],
      "execution_count": 15,
      "outputs": [
        {
          "output_type": "stream",
          "text": [
            "<re.Match object; span=(66, 68), match='Ha'>\n",
            "<re.Match object; span=(69, 71), match='Ha'>\n"
          ],
          "name": "stdout"
        }
      ]
    },
    {
      "cell_type": "code",
      "metadata": {
        "colab": {
          "base_uri": "https://localhost:8080/"
        },
        "id": "qIqrfNLasW0x",
        "outputId": "414f257d-91b1-43c7-d550-bc293f537261"
      },
      "source": [
        "#opposite of last search\r\n",
        "pattern=re.compile(r'\\BHa')\r\n",
        "#finditer returns iterator\r\n",
        "matches=pattern.finditer(text_to_search)\r\n",
        "for match in matches:\r\n",
        "  print(match)"
      ],
      "execution_count": 16,
      "outputs": [
        {
          "output_type": "stream",
          "text": [
            "<re.Match object; span=(71, 73), match='Ha'>\n"
          ],
          "name": "stdout"
        }
      ]
    },
    {
      "cell_type": "code",
      "metadata": {
        "id": "IyHLywjpsWyJ"
      },
      "source": [
        "#$ end of a string\r\n",
        "#^ beginning of a string"
      ],
      "execution_count": 17,
      "outputs": []
    },
    {
      "cell_type": "code",
      "metadata": {
        "colab": {
          "base_uri": "https://localhost:8080/"
        },
        "id": "DuR5wKJRsWvh",
        "outputId": "f163d975-5afc-4610-93ab-7107792bf8c0"
      },
      "source": [
        "sentence = 'Start a sentence and then bring it to an end'\r\n",
        "\r\n",
        "#sentence\r\n",
        "pattern=re.compile(r'^Start')\r\n",
        "#finditer returns iterator\r\n",
        "matches=pattern.finditer(sentence)\r\n",
        "for match in matches:\r\n",
        "  print(match)"
      ],
      "execution_count": 18,
      "outputs": [
        {
          "output_type": "stream",
          "text": [
            "<re.Match object; span=(0, 5), match='Start'>\n"
          ],
          "name": "stdout"
        }
      ]
    },
    {
      "cell_type": "code",
      "metadata": {
        "id": "iZp440CxsWsx"
      },
      "source": [
        "#sentence\r\n",
        "pattern=re.compile(r'^a')\r\n",
        "#finditer returns iterator\r\n",
        "matches=pattern.finditer(sentence)\r\n",
        "for match in matches:\r\n",
        "  print(match)\r\n",
        "\r\n",
        "#we didn't get any as it is not at the start"
      ],
      "execution_count": 19,
      "outputs": []
    },
    {
      "cell_type": "code",
      "metadata": {
        "colab": {
          "base_uri": "https://localhost:8080/"
        },
        "id": "tecghZg-sWqH",
        "outputId": "3d17af6b-6853-4e60-b8a9-6bc774392fe3"
      },
      "source": [
        "#sentence\r\n",
        "pattern=re.compile(r'end$')\r\n",
        "#finditer returns iterator\r\n",
        "matches=pattern.finditer(sentence)\r\n",
        "for match in matches:\r\n",
        "  print(match)"
      ],
      "execution_count": 20,
      "outputs": [
        {
          "output_type": "stream",
          "text": [
            "<re.Match object; span=(41, 44), match='end'>\n"
          ],
          "name": "stdout"
        }
      ]
    },
    {
      "cell_type": "code",
      "metadata": {
        "id": "Bw5htFd3sWnb"
      },
      "source": [
        "pattern=re.compile(r'a$')\r\n",
        "#finditer returns iterator\r\n",
        "matches=pattern.finditer(sentence)\r\n",
        "for match in matches:\r\n",
        "  print(match)"
      ],
      "execution_count": 21,
      "outputs": []
    },
    {
      "cell_type": "code",
      "metadata": {
        "colab": {
          "base_uri": "https://localhost:8080/"
        },
        "id": "bBYiam_msWkI",
        "outputId": "be759a81-347b-4164-947a-d79a1585114a"
      },
      "source": [
        "#to match phone numbers\r\n",
        "pattern=re.compile(r'\\d\\d\\d')\r\n",
        "#finditer returns iterator\r\n",
        "matches=pattern.finditer(text_to_search)\r\n",
        "for match in matches:\r\n",
        "  print(match)"
      ],
      "execution_count": 22,
      "outputs": [
        {
          "output_type": "stream",
          "text": [
            "<re.Match object; span=(55, 58), match='123'>\n",
            "<re.Match object; span=(58, 61), match='456'>\n",
            "<re.Match object; span=(61, 64), match='789'>\n",
            "<re.Match object; span=(151, 154), match='321'>\n",
            "<re.Match object; span=(155, 158), match='555'>\n",
            "<re.Match object; span=(159, 162), match='432'>\n",
            "<re.Match object; span=(164, 167), match='123'>\n",
            "<re.Match object; span=(168, 171), match='555'>\n",
            "<re.Match object; span=(172, 175), match='123'>\n",
            "<re.Match object; span=(177, 180), match='123'>\n",
            "<re.Match object; span=(181, 184), match='555'>\n",
            "<re.Match object; span=(185, 188), match='123'>\n",
            "<re.Match object; span=(190, 193), match='800'>\n",
            "<re.Match object; span=(194, 197), match='555'>\n",
            "<re.Match object; span=(198, 201), match='123'>\n",
            "<re.Match object; span=(203, 206), match='900'>\n",
            "<re.Match object; span=(207, 210), match='555'>\n",
            "<re.Match object; span=(211, 214), match='123'>\n"
          ],
          "name": "stdout"
        }
      ]
    },
    {
      "cell_type": "code",
      "metadata": {
        "colab": {
          "base_uri": "https://localhost:8080/"
        },
        "id": "rPDY5SVPsWgy",
        "outputId": "694ea05a-d7fa-4243-eb7a-148c87504b31"
      },
      "source": [
        "#to match phone numbers\r\n",
        "pattern=re.compile(r'\\d\\d\\d.\\d\\d\\d.\\d\\d\\d\\d')\r\n",
        "#finditer returns iterator\r\n",
        "matches=pattern.finditer(text_to_search)\r\n",
        "for match in matches:\r\n",
        "  print(match)"
      ],
      "execution_count": 23,
      "outputs": [
        {
          "output_type": "stream",
          "text": [
            "<re.Match object; span=(151, 163), match='321-555-4321'>\n",
            "<re.Match object; span=(164, 176), match='123.555.1234'>\n",
            "<re.Match object; span=(177, 189), match='123*555*1234'>\n",
            "<re.Match object; span=(190, 202), match='800-555-1234'>\n",
            "<re.Match object; span=(203, 215), match='900-555-1234'>\n"
          ],
          "name": "stdout"
        }
      ]
    },
    {
      "cell_type": "code",
      "metadata": {
        "colab": {
          "base_uri": "https://localhost:8080/",
          "height": 170
        },
        "id": "Q7YzK3TJsWdX",
        "outputId": "8153bede-5764-4701-9ec3-37307bf5eefd"
      },
      "source": [
        "with open('phn.txt', 'r') as f:\r\n",
        "  contents = f.read()\r\n",
        "contents"
      ],
      "execution_count": 24,
      "outputs": [
        {
          "output_type": "execute_result",
          "data": {
            "application/vnd.google.colaboratory.intrinsic+json": {
              "type": "string"
            },
            "text/plain": [
              "\"Dave Martin\\n615-555-7164\\n173 Main St., Springfield RI 55924\\ndavemartin@bogusemail.com\\n\\nCharles Harris\\n800-555-5669\\n969 High St., Atlantis VA 34075\\ncharlesharris@bogusemail.com\\n\\nEric Williams\\n560-555-5153\\n806 1st St., Faketown AK 86847\\nlaurawilliams@bogusemail.com\\n\\nCorey Jefferson\\n900-555-9340\\n826 Elm St., Epicburg NE 10671\\ncoreyjefferson@bogusemail.com\\n\\nJennifer Martin-White\\n714-555-7405\\n212 Cedar St., Sunnydale CT 74983\\njenniferwhite@bogusemail.com\\n\\nErick Davis\\n800-555-6771\\n519 Washington St., Olympus TN 32425\\ntomdavis@bogusemail.com\\n\\nNeil Patterson\\n783-555-4799\\n625 Oak St., Dawnstar IL 61914\\nneilpatterson@bogusemail.com\\n\\nLaura Jefferson\\n516-555-4615\\n890 Main St., Pythonville LA 29947\\nlaurajefferson@bogusemail.com\\n\\nMaria Johnson\\n127-555-1867\\n884 High St., Braavos? ME 43597\\nmariajohnson@bogusemail.com\\n\\nMichael Arnold\\n608-555-4938\\n249 Elm St., Quahog OR 90938\\nmichaelarnold@bogusemail.com\\n\\nMichael Smith\\n568-555-6051\\n619 Park St., Winterfell VA 99000\\nmichaelsmith@bogusemail.com\\n\\nErik Stuart\\n292-555-1875\\n220 Cedar St., Lakeview NY 87282\\nrobertstuart@bogusemail.com\\n\\nLaura Martin\\n900-555-3205\\n391 High St., Smalltown WY 28362\\nlauramartin@bogusemail.com\\n\\nBarbara Martin\\n614-555-1166\\n121 Hill St., Braavos? UT 92474\\nbarbaramartin@bogusemail.com\\n\\nLinda Jackson\\n530-555-2676\\n433 Elm St., Westworld TX 61967\\nlindajackson@bogusemail.com\\n\\nEric Miller\\n470-555-2750\\n838 Main St., Balmora MT 56526\\nstevemiller@bogusemail.com\\n\\nDave Arnold\\n800-555-6089\\n732 High St., Valyria KY 97152\\ndavearnold@bogusemail.com\\n\\nJennifer Jacobs\\n880-555-8319\\n217 High St., Old-town IA 82767\\njenniferjacobs@bogusemail.com\\n\\nNeil Wilson\\n777-555-8378\\n191 Main St., Mordor IL 72160\\nneilwilson@bogusemail.com\\n\\nKurt Jackson\\n998-555-7385\\n607 Washington St., Blackwater NH 97183\\nkurtjackson@bogusemail.com\\n\\nMary Jacobs\\n800-555-7100\\n478 Oak St., Bedrock IA 58176\\nmaryjacobs@bogusemail.com\\n\\nMichael White\\n903-555-8277\\n906 Elm St., Mordor TX 89212\\nmichaelwhite@bogusemail.com\\n\\nJennifer Jenkins\\n196-555-5674\\n949 Main St., Smalltown SC 96962\\njenniferjenkins@bogusemail.com\\n\\nSam Wright\\n900-555-5118\\n835 Pearl St., Smalltown ND 77737\\nsamwright@bogusemail.com\\n\\nJohn Davis\\n905-555-1630\\n451 Lake St., Bedrock GA 34615\\njohndavis@bogusemail.com\\n\\nEric Davis\\n203-555-3475\\n419 Lake St., Balmora OR 30826\\nneildavis@bogusemail.com\\n\\nLaura Jackson\\n884-555-8444\\n443 Maple St., Quahog MS 29348\\nlaurajackson@bogusemail.com\\n\\nJohn Williams\\n904-555-8559\\n756 Hill St., Valyria KY 94854\\njohnwilliams@bogusemail.com\\n\\nMichael Martin\\n889-555-7393\\n216 High St., Olympus NV 21888\\nmichaelmartin@bogusemail.com\\n\\nMaggie Brown\\n195-555-2405\\n806 Lake St., Lakeview MD 59348\\nmaggiebrown@bogusemail.com\\n\\nErik Wilson\\n321-555-9053\\n354 Hill St., Mordor FL 74122\\nkurtwilson@bogusemail.com\\n\\nElizabeth Arnold\\n133-555-1711\\n805 Maple St., Winterfell NV 99431\\nelizabetharnold@bogusemail.com\\n\\nJane Martin\\n900-555-5428\\n418 Park St., Metropolis ID 16576\\njanemartin@bogusemail.com\\n\\nTravis Johnson\\n760-555-7147\\n749 Washington St., Braavos? SD 25668\\ntravisjohnson@bogusemail.com\\n\\nLaura Jefferson\\n391-555-6621\\n122 High St., Metropolis ME 29540\\nlaurajefferson@bogusemail.com\\n\\nTom Williams\\n932-555-7724\\n610 High St., Old-town FL 60758\\ntomwilliams@bogusemail.com\\n\\nJennifer Taylor\\n609-555-7908\\n332 Main St., Pythonville OH 78172\\njennifertaylor@bogusemail.com\\n\\nErick Wright\\n800-555-8810\\n858 Hill St., Blackwater NC 79714\\njenniferwright@bogusemail.com\\n\\nSteve Doe\\n149-555-7657\\n441 Elm St., Atlantis MS 87195\\nstevedoe@bogusemail.com\\n\\nKurt Davis\\n130-555-9709\\n404 Oak St., Atlantis ND 85386\\nkurtdavis@bogusemail.com\\n\\nCorey Harris\\n143-555-9295\\n286 Pearl St., Vice City TX 57112\\ncoreyharris@bogusemail.com\\n\\nNicole Taylor\\n903-555-9878\\n465 Hill St., Old-town LA 64102\\nnicoletaylor@bogusemail.com\\n\\nElizabeth Davis\\n574-555-3194\\n151 Lake St., Eerie SD 17880\\nelizabethdavis@bogusemail.com\\n\\nMaggie Jenkins\\n496-555-7533\\n504 Lake St., Gotham PA 46692\\nmaggiejenkins@bogusemail.com\\n\\nLinda Davis\\n210-555-3757\\n201 Pine St., Vice City AR 78455\\nlindadavis@bogusemail.com\\n\\nDave Moore\\n900-555-9598\\n251 Pine St., Old-town OK 29087\\ndavemoore@bogusemail.com\\n\\nLinda Jenkins\\n866-555-9844\\n117 High St., Bedrock NE 11899\\nlindajenkins@bogusemail.com\\n\\nEric White\\n669-555-7159\\n650 Oak St., Smalltown TN 43281\\nsamwhite@bogusemail.com\\n\\nLaura Robinson\\n152-555-7417\\n377 Pine St., Valyria NC 78036\\nlaurarobinson@bogusemail.com\\n\\nCharles Patterson\\n893-555-9832\\n416 Pearl St., Valyria AK 62260\\ncharlespatterson@bogusemail.com\\n\\nJoe Jackson\\n217-555-7123\\n683 Cedar St., South Park KS 66724\\njoejackson@bogusemail.com\\n\\nMichael Johnson\\n786-555-6544\\n288 Hill St., Smalltown AZ 18586\\nmichaeljohnson@bogusemail.com\\n\\nCorey Miller\\n780-555-2574\\n286 High St., Springfield IA 16272\\ncoreymiller@bogusemail.com\\n\\nJames Moore\\n926-555-8735\\n278 Main St., Gotham KY 89569\\njamesmoore@bogusemail.com\\n\\nJennifer Stuart\\n895-555-3539\\n766 Hill St., King's Landing GA 54999\\njenniferstuart@bogusemail.com\\n\\nCharles Martin\\n874-555-3949\\n775 High St., Faketown PA 89260\\ncharlesmartin@bogusemail.com\\n\\nEric Wilks\\n800-555-2420\\n885 Main St., Blackwater OH 61275\\njoewilks@bogusemail.com\\n\\nElizabeth Arnold\\n936-555-6340\\n528 Hill St., Atlantis NH 88289\\nelizabetharnold@bogusemail.com\\n\\nJohn Miller\\n372-555-9809\\n117 Cedar St., Thundera NM 75205\\njohnmiller@bogusemail.com\\n\\nCorey Jackson\\n890-555-5618\\n115 Oak St., Gotham UT 36433\\ncoreyjackson@bogusemail.com\\n\\nSam Thomas\\n670-555-3005\\n743 Lake St., Springfield MS 25473\\nsamthomas@bogusemail.com\\n\\nPatricia Thomas\\n509-555-5997\\n381 Hill St., Blackwater CT 30958\\npatriciathomas@bogusemail.com\\n\\nJennifer Davis\\n721-555-5632\\n125 Main St., Smalltown MT 62155\\njenniferdavis@bogusemail.com\\n\\nPatricia Brown\\n900-555-3567\\n292 Hill St., Gotham WV 57680\\npatriciabrown@bogusemail.com\\n\\nBarbara Williams\\n147-555-6830\\n514 Park St., Balmora NV 55462\\nbarbarawilliams@bogusemail.com\\n\\nJames Taylor\\n582-555-3426\\n776 Hill St., Dawnstar MA 51312\\njamestaylor@bogusemail.com\\n\\nEric Harris\\n400-555-1706\\n421 Elm St., Smalltown NV 72025\\nbarbaraharris@bogusemail.com\\n\\nTravis Anderson\\n525-555-1793\\n937 Cedar St., Thundera WA 78862\\ntravisanderson@bogusemail.com\\n\\nSam Robinson\\n317-555-6700\\n417 Pine St., Lakeview MD 13147\\nsamrobinson@bogusemail.com\\n\\nSteve Robinson\\n974-555-8301\\n478 Park St., Springfield NM 92369\\nsteverobinson@bogusemail.com\\n\\nMary Wilson\\n800-555-3216\\n708 Maple St., Braavos? UT 29551\\nmarywilson@bogusemail.com\\n\\nSam Wilson\\n746-555-4094\\n557 Pearl St., Westworld KS 23225\\nsamwilson@bogusemail.com\\n\\nCharles Jones\\n922-555-1773\\n855 Hill St., Olympus HI 81427\\ncharlesjones@bogusemail.com\\n\\nLaura Brown\\n711-555-4427\\n980 Maple St., Smalltown MO 96421\\nlaurabrown@bogusemail.com\\n\\nTom Harris\\n355-555-1872\\n676 Hill St., Blackwater AR 96698\\ntomharris@bogusemail.com\\n\\nPatricia Taylor\\n852-555-6521\\n588 Pine St., Olympus FL 98412\\npatriciataylor@bogusemail.com\\n\\nBarbara Williams\\n691-555-5773\\n351 Elm St., Sunnydale GA 26245\\nbarbarawilliams@bogusemail.com\\n\\nMaggie Johnson\\n332-555-5441\\n948 Cedar St., Quahog DE 56449\\nmaggiejohnson@bogusemail.com\\n\\nKurt Miller\\n900-555-7755\\n381 Hill St., Quahog AL 97503\\nkurtmiller@bogusemail.com\\n\\nNeil Stuart\\n379-555-3685\\n496 Cedar St., Sunnydale RI 49113\\nneilstuart@bogusemail.com\\n\\nLinda Patterson\\n127-555-9682\\n736 Cedar St., Lakeview KY 47472\\nlindapatterson@bogusemail.com\\n\\nCharles Davis\\n789-555-7032\\n678 Lake St., Mordor MN 11845\\ncharlesdavis@bogusemail.com\\n\\nJennifer Jefferson\\n783-555-5135\\n289 Park St., Sunnydale WA 74526\\njenniferjefferson@bogusemail.com\\n\\nErick Taylor\\n315-555-6507\\n245 Washington St., Bedrock IL 26941\\ncoreytaylor@bogusemail.com\\n\\nRobert Wilks\\n481-555-5835\\n573 Elm St., Sunnydale IL 47182\\nrobertwilks@bogusemail.com\\n\\nTravis Jackson\\n365-555-8287\\n851 Lake St., Metropolis PA 22772\\ntravisjackson@bogusemail.com\\n\\nTravis Jackson\\n911-555-7535\\n489 Oak St., Atlantis HI 73725\\ntravisjackson@bogusemail.com\\n\\nLaura Wilks\\n681-555-2460\\n371 Pearl St., Smalltown SC 47466\\nlaurawilks@bogusemail.com\\n\\nNeil Arnold\\n274-555-9800\\n504 Oak St., Faketown PA 73860\\nneilarnold@bogusemail.com\\n\\nLinda Johnson\\n800-555-1372\\n667 High St., Balmora IN 82473\\nlindajohnson@bogusemail.com\\n\\nJennifer Wilson\\n300-555-7821\\n266 Pine St., Westworld DC 58720\\njenniferwilson@bogusemail.com\\n\\nNicole White\\n133-555-3889\\n276 High St., Braavos? IL 57764\\nnicolewhite@bogusemail.com\\n\\nMaria Arnold\\n705-555-6863\\n491 Elm St., Metropolis PA 31836\\nmariaarnold@bogusemail.com\\n\\nJennifer Davis\\n215-555-9449\\n859 Cedar St., Old-town MT 31169\\njenniferdavis@bogusemail.com\\n\\nMary Patterson\\n988-555-6112\\n956 Park St., Valyria CT 81541\\nmarypatterson@bogusemail.com\\n\\nJane Stuart\\n623-555-3006\\n983 Oak St., Old-town RI 15445\\njanestuart@bogusemail.com\\n\\nRobert Davis\\n192-555-4977\\n789 Maple St., Mordor IN 22215\\nrobertdavis@bogusemail.com\\n\\nJames Taylor\\n178-555-4899\\n439 Hill St., Olympus NV 39308\\njamestaylor@bogusemail.com\\n\\nEric Stuart\\n952-555-3089\\n777 High St., King's Landing AZ 16547\\njohnstuart@bogusemail.com\\n\\nCharles Miller\\n900-555-6426\\n207 Washington St., Blackwater MA 24886\\ncharlesmiller@bogusemail.com\""
            ]
          },
          "metadata": {
            "tags": []
          },
          "execution_count": 24
        }
      ]
    },
    {
      "cell_type": "code",
      "metadata": {
        "colab": {
          "base_uri": "https://localhost:8080/"
        },
        "id": "etPD6RhCuyoC",
        "outputId": "6c7ca7e2-a6bb-4587-d254-ff7d6675e160"
      },
      "source": [
        "#to match phone numbers\r\n",
        "pattern=re.compile(r'\\d\\d\\d.\\d\\d\\d.\\d\\d\\d\\d')\r\n",
        "#finditer returns iterator\r\n",
        "matches=pattern.finditer(contents)\r\n",
        "for match in matches:\r\n",
        "  print(match)"
      ],
      "execution_count": 26,
      "outputs": [
        {
          "output_type": "stream",
          "text": [
            "<re.Match object; span=(12, 24), match='615-555-7164'>\n",
            "<re.Match object; span=(102, 114), match='800-555-5669'>\n",
            "<re.Match object; span=(191, 203), match='560-555-5153'>\n",
            "<re.Match object; span=(281, 293), match='900-555-9340'>\n",
            "<re.Match object; span=(378, 390), match='714-555-7405'>\n",
            "<re.Match object; span=(467, 479), match='800-555-6771'>\n",
            "<re.Match object; span=(557, 569), match='783-555-4799'>\n",
            "<re.Match object; span=(647, 659), match='516-555-4615'>\n",
            "<re.Match object; span=(740, 752), match='127-555-1867'>\n",
            "<re.Match object; span=(829, 841), match='608-555-4938'>\n",
            "<re.Match object; span=(915, 927), match='568-555-6051'>\n",
            "<re.Match object; span=(1003, 1015), match='292-555-1875'>\n",
            "<re.Match object; span=(1091, 1103), match='900-555-3205'>\n",
            "<re.Match object; span=(1180, 1192), match='614-555-1166'>\n",
            "<re.Match object; span=(1269, 1281), match='530-555-2676'>\n",
            "<re.Match object; span=(1355, 1367), match='470-555-2750'>\n",
            "<re.Match object; span=(1439, 1451), match='800-555-6089'>\n",
            "<re.Match object; span=(1526, 1538), match='880-555-8319'>\n",
            "<re.Match object; span=(1614, 1626), match='777-555-8378'>\n",
            "<re.Match object; span=(1697, 1709), match='998-555-7385'>\n",
            "<re.Match object; span=(1790, 1802), match='800-555-7100'>\n",
            "<re.Match object; span=(1874, 1886), match='903-555-8277'>\n",
            "<re.Match object; span=(1962, 1974), match='196-555-5674'>\n",
            "<re.Match object; span=(2051, 2063), match='900-555-5118'>\n",
            "<re.Match object; span=(2135, 2147), match='905-555-1630'>\n",
            "<re.Match object; span=(2216, 2228), match='203-555-3475'>\n",
            "<re.Match object; span=(2300, 2312), match='884-555-8444'>\n",
            "<re.Match object; span=(2387, 2399), match='904-555-8559'>\n",
            "<re.Match object; span=(2475, 2487), match='889-555-7393'>\n",
            "<re.Match object; span=(2562, 2574), match='195-555-2405'>\n",
            "<re.Match object; span=(2647, 2659), match='321-555-9053'>\n",
            "<re.Match object; span=(2734, 2746), match='133-555-1711'>\n",
            "<re.Match object; span=(2826, 2838), match='900-555-5428'>\n",
            "<re.Match object; span=(2915, 2927), match='760-555-7147'>\n",
            "<re.Match object; span=(3012, 3024), match='391-555-6621'>\n",
            "<re.Match object; span=(3103, 3115), match='932-555-7724'>\n",
            "<re.Match object; span=(3192, 3204), match='609-555-7908'>\n",
            "<re.Match object; span=(3284, 3296), match='800-555-8810'>\n",
            "<re.Match object; span=(3372, 3384), match='149-555-7657'>\n",
            "<re.Match object; span=(3452, 3464), match='130-555-9709'>\n",
            "<re.Match object; span=(3535, 3547), match='143-555-9295'>\n",
            "<re.Match object; span=(3624, 3636), match='903-555-9878'>\n",
            "<re.Match object; span=(3714, 3726), match='574-555-3194'>\n",
            "<re.Match object; span=(3802, 3814), match='496-555-7533'>\n",
            "<re.Match object; span=(3887, 3899), match='210-555-3757'>\n",
            "<re.Match object; span=(3971, 3983), match='900-555-9598'>\n",
            "<re.Match object; span=(4056, 4068), match='866-555-9844'>\n",
            "<re.Match object; span=(4140, 4152), match='669-555-7159'>\n",
            "<re.Match object; span=(4225, 4237), match='152-555-7417'>\n",
            "<re.Match object; span=(4317, 4329), match='893-555-9832'>\n",
            "<re.Match object; span=(4407, 4419), match='217-555-7123'>\n",
            "<re.Match object; span=(4498, 4510), match='786-555-6544'>\n",
            "<re.Match object; span=(4588, 4600), match='780-555-2574'>\n",
            "<re.Match object; span=(4676, 4688), match='926-555-8735'>\n",
            "<re.Match object; span=(4762, 4774), match='895-555-3539'>\n",
            "<re.Match object; span=(4859, 4871), match='874-555-3949'>\n",
            "<re.Match object; span=(4945, 4957), match='800-555-2420'>\n",
            "<re.Match object; span=(5034, 5046), match='936-555-6340'>\n",
            "<re.Match object; span=(5123, 5135), match='372-555-9809'>\n",
            "<re.Match object; span=(5210, 5222), match='890-555-5618'>\n",
            "<re.Match object; span=(5292, 5304), match='670-555-3005'>\n",
            "<re.Match object; span=(5382, 5394), match='509-555-5997'>\n",
            "<re.Match object; span=(5475, 5487), match='721-555-5632'>\n",
            "<re.Match object; span=(5566, 5578), match='900-555-3567'>\n",
            "<re.Match object; span=(5656, 5668), match='147-555-6830'>\n",
            "<re.Match object; span=(5745, 5757), match='582-555-3426'>\n",
            "<re.Match object; span=(5830, 5842), match='400-555-1706'>\n",
            "<re.Match object; span=(5921, 5933), match='525-555-1793'>\n",
            "<re.Match object; span=(6011, 6023), match='317-555-6700'>\n",
            "<re.Match object; span=(6099, 6111), match='974-555-8301'>\n",
            "<re.Match object; span=(6189, 6201), match='800-555-3216'>\n",
            "<re.Match object; span=(6273, 6285), match='746-555-4094'>\n",
            "<re.Match object; span=(6360, 6372), match='922-555-1773'>\n",
            "<re.Match object; span=(6445, 6457), match='711-555-4427'>\n",
            "<re.Match object; span=(6530, 6542), match='355-555-1872'>\n",
            "<re.Match object; span=(6619, 6631), match='852-555-6521'>\n",
            "<re.Match object; span=(6711, 6723), match='691-555-5773'>\n",
            "<re.Match object; span=(6803, 6815), match='332-555-5441'>\n",
            "<re.Match object; span=(6889, 6901), match='900-555-7755'>\n",
            "<re.Match object; span=(6971, 6983), match='379-555-3685'>\n",
            "<re.Match object; span=(7061, 7073), match='127-555-9682'>\n",
            "<re.Match object; span=(7152, 7164), match='789-555-7032'>\n",
            "<re.Match object; span=(7243, 7255), match='783-555-5135'>\n",
            "<re.Match object; span=(7336, 7348), match='315-555-6507'>\n",
            "<re.Match object; span=(7427, 7439), match='481-555-5835'>\n",
            "<re.Match object; span=(7515, 7527), match='365-555-8287'>\n",
            "<re.Match object; span=(7607, 7619), match='911-555-7535'>\n",
            "<re.Match object; span=(7693, 7705), match='681-555-2460'>\n",
            "<re.Match object; span=(7779, 7791), match='274-555-9800'>\n",
            "<re.Match object; span=(7864, 7876), match='800-555-1372'>\n",
            "<re.Match object; span=(7953, 7965), match='300-555-7821'>\n",
            "<re.Match object; span=(8043, 8055), match='133-555-3889'>\n",
            "<re.Match object; span=(8129, 8141), match='705-555-6863'>\n",
            "<re.Match object; span=(8218, 8230), match='215-555-9449'>\n",
            "<re.Match object; span=(8309, 8321), match='988-555-6112'>\n",
            "<re.Match object; span=(8395, 8407), match='623-555-3006'>\n",
            "<re.Match object; span=(8479, 8491), match='192-555-4977'>\n",
            "<re.Match object; span=(8564, 8576), match='178-555-4899'>\n",
            "<re.Match object; span=(8648, 8660), match='952-555-3089'>\n",
            "<re.Match object; span=(8741, 8753), match='900-555-6426'>\n"
          ],
          "name": "stdout"
        }
      ]
    },
    {
      "cell_type": "code",
      "metadata": {
        "colab": {
          "base_uri": "https://localhost:8080/"
        },
        "id": "H14uV_Qsu69r",
        "outputId": "26488028-63a1-40b6-d85d-8423ca417273"
      },
      "source": [
        "#to match phone numbers\r\n",
        "#but removing * separators\r\n",
        "pattern=re.compile(r'\\d\\d\\d[-.]\\d\\d\\d[-.]\\d\\d\\d\\d')\r\n",
        "#finditer returns iterator\r\n",
        "matches=pattern.finditer(text_to_search)\r\n",
        "for match in matches:\r\n",
        "  print(match)"
      ],
      "execution_count": 28,
      "outputs": [
        {
          "output_type": "stream",
          "text": [
            "<re.Match object; span=(151, 163), match='321-555-4321'>\n",
            "<re.Match object; span=(164, 176), match='123.555.1234'>\n",
            "<re.Match object; span=(190, 202), match='800-555-1234'>\n",
            "<re.Match object; span=(203, 215), match='900-555-1234'>\n"
          ],
          "name": "stdout"
        }
      ]
    },
    {
      "cell_type": "code",
      "metadata": {
        "colab": {
          "base_uri": "https://localhost:8080/"
        },
        "id": "x7VZoigvvyUR",
        "outputId": "60a186d2-41f6-4fa9-e5ca-422d1709ce9f"
      },
      "source": [
        "#matching two dots/hiphens\r\n",
        "#matching 800 and 900 number\r\n",
        "pattern=re.compile(r'[89]00[-.]\\d\\d\\d[-.]\\d\\d\\d\\d')\r\n",
        "#finditer returns iterator\r\n",
        "matches=pattern.finditer(text_to_search)\r\n",
        "for match in matches:\r\n",
        "  print(match)"
      ],
      "execution_count": 30,
      "outputs": [
        {
          "output_type": "stream",
          "text": [
            "<re.Match object; span=(190, 202), match='800-555-1234'>\n",
            "<re.Match object; span=(203, 215), match='900-555-1234'>\n"
          ],
          "name": "stdout"
        }
      ]
    },
    {
      "cell_type": "code",
      "metadata": {
        "colab": {
          "base_uri": "https://localhost:8080/"
        },
        "id": "wS7F_kTLvyQ0",
        "outputId": "37e47f95-cbb8-4baf-ccfe-ee936c5becaa"
      },
      "source": [
        "pattern=re.compile(r'[89]00[-.]\\d\\d\\d[-.]\\d\\d\\d\\d')\r\n",
        "#finditer returns iterator\r\n",
        "matches=pattern.finditer(contents)\r\n",
        "for match in matches:\r\n",
        "  print(match)"
      ],
      "execution_count": 31,
      "outputs": [
        {
          "output_type": "stream",
          "text": [
            "<re.Match object; span=(102, 114), match='800-555-5669'>\n",
            "<re.Match object; span=(281, 293), match='900-555-9340'>\n",
            "<re.Match object; span=(467, 479), match='800-555-6771'>\n",
            "<re.Match object; span=(1091, 1103), match='900-555-3205'>\n",
            "<re.Match object; span=(1439, 1451), match='800-555-6089'>\n",
            "<re.Match object; span=(1790, 1802), match='800-555-7100'>\n",
            "<re.Match object; span=(2051, 2063), match='900-555-5118'>\n",
            "<re.Match object; span=(2826, 2838), match='900-555-5428'>\n",
            "<re.Match object; span=(3284, 3296), match='800-555-8810'>\n",
            "<re.Match object; span=(3971, 3983), match='900-555-9598'>\n",
            "<re.Match object; span=(4945, 4957), match='800-555-2420'>\n",
            "<re.Match object; span=(5566, 5578), match='900-555-3567'>\n",
            "<re.Match object; span=(6189, 6201), match='800-555-3216'>\n",
            "<re.Match object; span=(6889, 6901), match='900-555-7755'>\n",
            "<re.Match object; span=(7864, 7876), match='800-555-1372'>\n",
            "<re.Match object; span=(8741, 8753), match='900-555-6426'>\n"
          ],
          "name": "stdout"
        }
      ]
    },
    {
      "cell_type": "code",
      "metadata": {
        "colab": {
          "base_uri": "https://localhost:8080/"
        },
        "id": "qXBLHta3vyM0",
        "outputId": "1a071186-b19e-48b0-dc48-42f41fe8a164"
      },
      "source": [
        "#range between 1 to 5\r\n",
        "pattern=re.compile(r'[1-5]') \r\n",
        "#finditer returns iterator\r\n",
        "matches=pattern.finditer(text_to_search)\r\n",
        "for match in matches:\r\n",
        "  print(match)"
      ],
      "execution_count": 32,
      "outputs": [
        {
          "output_type": "stream",
          "text": [
            "<re.Match object; span=(55, 56), match='1'>\n",
            "<re.Match object; span=(56, 57), match='2'>\n",
            "<re.Match object; span=(57, 58), match='3'>\n",
            "<re.Match object; span=(58, 59), match='4'>\n",
            "<re.Match object; span=(59, 60), match='5'>\n",
            "<re.Match object; span=(151, 152), match='3'>\n",
            "<re.Match object; span=(152, 153), match='2'>\n",
            "<re.Match object; span=(153, 154), match='1'>\n",
            "<re.Match object; span=(155, 156), match='5'>\n",
            "<re.Match object; span=(156, 157), match='5'>\n",
            "<re.Match object; span=(157, 158), match='5'>\n",
            "<re.Match object; span=(159, 160), match='4'>\n",
            "<re.Match object; span=(160, 161), match='3'>\n",
            "<re.Match object; span=(161, 162), match='2'>\n",
            "<re.Match object; span=(162, 163), match='1'>\n",
            "<re.Match object; span=(164, 165), match='1'>\n",
            "<re.Match object; span=(165, 166), match='2'>\n",
            "<re.Match object; span=(166, 167), match='3'>\n",
            "<re.Match object; span=(168, 169), match='5'>\n",
            "<re.Match object; span=(169, 170), match='5'>\n",
            "<re.Match object; span=(170, 171), match='5'>\n",
            "<re.Match object; span=(172, 173), match='1'>\n",
            "<re.Match object; span=(173, 174), match='2'>\n",
            "<re.Match object; span=(174, 175), match='3'>\n",
            "<re.Match object; span=(175, 176), match='4'>\n",
            "<re.Match object; span=(177, 178), match='1'>\n",
            "<re.Match object; span=(178, 179), match='2'>\n",
            "<re.Match object; span=(179, 180), match='3'>\n",
            "<re.Match object; span=(181, 182), match='5'>\n",
            "<re.Match object; span=(182, 183), match='5'>\n",
            "<re.Match object; span=(183, 184), match='5'>\n",
            "<re.Match object; span=(185, 186), match='1'>\n",
            "<re.Match object; span=(186, 187), match='2'>\n",
            "<re.Match object; span=(187, 188), match='3'>\n",
            "<re.Match object; span=(188, 189), match='4'>\n",
            "<re.Match object; span=(194, 195), match='5'>\n",
            "<re.Match object; span=(195, 196), match='5'>\n",
            "<re.Match object; span=(196, 197), match='5'>\n",
            "<re.Match object; span=(198, 199), match='1'>\n",
            "<re.Match object; span=(199, 200), match='2'>\n",
            "<re.Match object; span=(200, 201), match='3'>\n",
            "<re.Match object; span=(201, 202), match='4'>\n",
            "<re.Match object; span=(207, 208), match='5'>\n",
            "<re.Match object; span=(208, 209), match='5'>\n",
            "<re.Match object; span=(209, 210), match='5'>\n",
            "<re.Match object; span=(211, 212), match='1'>\n",
            "<re.Match object; span=(212, 213), match='2'>\n",
            "<re.Match object; span=(213, 214), match='3'>\n",
            "<re.Match object; span=(214, 215), match='4'>\n"
          ],
          "name": "stdout"
        }
      ]
    },
    {
      "cell_type": "code",
      "metadata": {
        "colab": {
          "base_uri": "https://localhost:8080/"
        },
        "id": "WIuQlXkjw620",
        "outputId": "3a829314-1b32-41a8-de27-040561d07c63"
      },
      "source": [
        "#lower or upper case range matching\r\n",
        "pattern=re.compile(r'[a-zA-Z]')\r\n",
        "#finditer returns iterator\r\n",
        "matches=pattern.finditer(text_to_search)\r\n",
        "for match in matches:\r\n",
        "  print(match)"
      ],
      "execution_count": 33,
      "outputs": [
        {
          "output_type": "stream",
          "text": [
            "<re.Match object; span=(1, 2), match='a'>\n",
            "<re.Match object; span=(2, 3), match='b'>\n",
            "<re.Match object; span=(3, 4), match='c'>\n",
            "<re.Match object; span=(4, 5), match='d'>\n",
            "<re.Match object; span=(5, 6), match='e'>\n",
            "<re.Match object; span=(6, 7), match='f'>\n",
            "<re.Match object; span=(7, 8), match='g'>\n",
            "<re.Match object; span=(8, 9), match='h'>\n",
            "<re.Match object; span=(9, 10), match='i'>\n",
            "<re.Match object; span=(10, 11), match='j'>\n",
            "<re.Match object; span=(11, 12), match='k'>\n",
            "<re.Match object; span=(12, 13), match='l'>\n",
            "<re.Match object; span=(13, 14), match='m'>\n",
            "<re.Match object; span=(14, 15), match='n'>\n",
            "<re.Match object; span=(15, 16), match='o'>\n",
            "<re.Match object; span=(16, 17), match='p'>\n",
            "<re.Match object; span=(17, 18), match='q'>\n",
            "<re.Match object; span=(18, 19), match='u'>\n",
            "<re.Match object; span=(19, 20), match='r'>\n",
            "<re.Match object; span=(20, 21), match='t'>\n",
            "<re.Match object; span=(21, 22), match='u'>\n",
            "<re.Match object; span=(22, 23), match='v'>\n",
            "<re.Match object; span=(23, 24), match='w'>\n",
            "<re.Match object; span=(24, 25), match='x'>\n",
            "<re.Match object; span=(25, 26), match='y'>\n",
            "<re.Match object; span=(26, 27), match='z'>\n",
            "<re.Match object; span=(28, 29), match='A'>\n",
            "<re.Match object; span=(29, 30), match='B'>\n",
            "<re.Match object; span=(30, 31), match='C'>\n",
            "<re.Match object; span=(31, 32), match='D'>\n",
            "<re.Match object; span=(32, 33), match='E'>\n",
            "<re.Match object; span=(33, 34), match='F'>\n",
            "<re.Match object; span=(34, 35), match='G'>\n",
            "<re.Match object; span=(35, 36), match='H'>\n",
            "<re.Match object; span=(36, 37), match='I'>\n",
            "<re.Match object; span=(37, 38), match='J'>\n",
            "<re.Match object; span=(38, 39), match='K'>\n",
            "<re.Match object; span=(39, 40), match='L'>\n",
            "<re.Match object; span=(40, 41), match='M'>\n",
            "<re.Match object; span=(41, 42), match='N'>\n",
            "<re.Match object; span=(42, 43), match='O'>\n",
            "<re.Match object; span=(43, 44), match='P'>\n",
            "<re.Match object; span=(44, 45), match='Q'>\n",
            "<re.Match object; span=(45, 46), match='R'>\n",
            "<re.Match object; span=(46, 47), match='S'>\n",
            "<re.Match object; span=(47, 48), match='T'>\n",
            "<re.Match object; span=(48, 49), match='U'>\n",
            "<re.Match object; span=(49, 50), match='V'>\n",
            "<re.Match object; span=(50, 51), match='W'>\n",
            "<re.Match object; span=(51, 52), match='X'>\n",
            "<re.Match object; span=(52, 53), match='Y'>\n",
            "<re.Match object; span=(53, 54), match='Z'>\n",
            "<re.Match object; span=(66, 67), match='H'>\n",
            "<re.Match object; span=(67, 68), match='a'>\n",
            "<re.Match object; span=(69, 70), match='H'>\n",
            "<re.Match object; span=(70, 71), match='a'>\n",
            "<re.Match object; span=(71, 72), match='H'>\n",
            "<re.Match object; span=(72, 73), match='a'>\n",
            "<re.Match object; span=(74, 75), match='M'>\n",
            "<re.Match object; span=(75, 76), match='e'>\n",
            "<re.Match object; span=(76, 77), match='t'>\n",
            "<re.Match object; span=(77, 78), match='a'>\n",
            "<re.Match object; span=(78, 79), match='C'>\n",
            "<re.Match object; span=(79, 80), match='h'>\n",
            "<re.Match object; span=(80, 81), match='a'>\n",
            "<re.Match object; span=(81, 82), match='r'>\n",
            "<re.Match object; span=(82, 83), match='a'>\n",
            "<re.Match object; span=(83, 84), match='c'>\n",
            "<re.Match object; span=(84, 85), match='t'>\n",
            "<re.Match object; span=(85, 86), match='e'>\n",
            "<re.Match object; span=(86, 87), match='r'>\n",
            "<re.Match object; span=(87, 88), match='s'>\n",
            "<re.Match object; span=(90, 91), match='N'>\n",
            "<re.Match object; span=(91, 92), match='e'>\n",
            "<re.Match object; span=(92, 93), match='e'>\n",
            "<re.Match object; span=(93, 94), match='d'>\n",
            "<re.Match object; span=(95, 96), match='t'>\n",
            "<re.Match object; span=(96, 97), match='o'>\n",
            "<re.Match object; span=(98, 99), match='b'>\n",
            "<re.Match object; span=(99, 100), match='e'>\n",
            "<re.Match object; span=(101, 102), match='e'>\n",
            "<re.Match object; span=(102, 103), match='s'>\n",
            "<re.Match object; span=(103, 104), match='c'>\n",
            "<re.Match object; span=(104, 105), match='a'>\n",
            "<re.Match object; span=(105, 106), match='p'>\n",
            "<re.Match object; span=(106, 107), match='e'>\n",
            "<re.Match object; span=(107, 108), match='d'>\n",
            "<re.Match object; span=(139, 140), match='c'>\n",
            "<re.Match object; span=(140, 141), match='o'>\n",
            "<re.Match object; span=(141, 142), match='r'>\n",
            "<re.Match object; span=(142, 143), match='e'>\n",
            "<re.Match object; span=(143, 144), match='y'>\n",
            "<re.Match object; span=(144, 145), match='m'>\n",
            "<re.Match object; span=(145, 146), match='s'>\n",
            "<re.Match object; span=(147, 148), match='c'>\n",
            "<re.Match object; span=(148, 149), match='o'>\n",
            "<re.Match object; span=(149, 150), match='m'>\n",
            "<re.Match object; span=(216, 217), match='M'>\n",
            "<re.Match object; span=(217, 218), match='r'>\n",
            "<re.Match object; span=(220, 221), match='S'>\n",
            "<re.Match object; span=(221, 222), match='c'>\n",
            "<re.Match object; span=(222, 223), match='h'>\n",
            "<re.Match object; span=(223, 224), match='a'>\n",
            "<re.Match object; span=(224, 225), match='f'>\n",
            "<re.Match object; span=(225, 226), match='e'>\n",
            "<re.Match object; span=(226, 227), match='r'>\n",
            "<re.Match object; span=(228, 229), match='M'>\n",
            "<re.Match object; span=(229, 230), match='r'>\n",
            "<re.Match object; span=(231, 232), match='S'>\n",
            "<re.Match object; span=(232, 233), match='m'>\n",
            "<re.Match object; span=(233, 234), match='i'>\n",
            "<re.Match object; span=(234, 235), match='t'>\n",
            "<re.Match object; span=(235, 236), match='h'>\n",
            "<re.Match object; span=(237, 238), match='M'>\n",
            "<re.Match object; span=(238, 239), match='s'>\n",
            "<re.Match object; span=(240, 241), match='D'>\n",
            "<re.Match object; span=(241, 242), match='a'>\n",
            "<re.Match object; span=(242, 243), match='v'>\n",
            "<re.Match object; span=(243, 244), match='i'>\n",
            "<re.Match object; span=(244, 245), match='s'>\n",
            "<re.Match object; span=(246, 247), match='M'>\n",
            "<re.Match object; span=(247, 248), match='r'>\n",
            "<re.Match object; span=(248, 249), match='s'>\n",
            "<re.Match object; span=(251, 252), match='R'>\n",
            "<re.Match object; span=(252, 253), match='o'>\n",
            "<re.Match object; span=(253, 254), match='b'>\n",
            "<re.Match object; span=(254, 255), match='i'>\n",
            "<re.Match object; span=(255, 256), match='n'>\n",
            "<re.Match object; span=(256, 257), match='s'>\n",
            "<re.Match object; span=(257, 258), match='o'>\n",
            "<re.Match object; span=(258, 259), match='n'>\n",
            "<re.Match object; span=(260, 261), match='M'>\n",
            "<re.Match object; span=(261, 262), match='r'>\n",
            "<re.Match object; span=(264, 265), match='T'>\n"
          ],
          "name": "stdout"
        }
      ]
    },
    {
      "cell_type": "code",
      "metadata": {
        "colab": {
          "base_uri": "https://localhost:8080/"
        },
        "id": "05Ec8Kbnw6zc",
        "outputId": "0fcca9e9-e512-43f3-d923-a316e45dd70a"
      },
      "source": [
        "#lower or upper case range matching\\\r\n",
        "#negated everything inside\r\n",
        "#here non characters will appear\r\n",
        "pattern=re.compile(r'[^a-zA-Z]')\r\n",
        "#finditer returns iterator\r\n",
        "matches=pattern.finditer(text_to_search)\r\n",
        "for match in matches:\r\n",
        "  print(match)"
      ],
      "execution_count": 34,
      "outputs": [
        {
          "output_type": "stream",
          "text": [
            "<re.Match object; span=(0, 1), match='\\n'>\n",
            "<re.Match object; span=(27, 28), match='\\n'>\n",
            "<re.Match object; span=(54, 55), match='\\n'>\n",
            "<re.Match object; span=(55, 56), match='1'>\n",
            "<re.Match object; span=(56, 57), match='2'>\n",
            "<re.Match object; span=(57, 58), match='3'>\n",
            "<re.Match object; span=(58, 59), match='4'>\n",
            "<re.Match object; span=(59, 60), match='5'>\n",
            "<re.Match object; span=(60, 61), match='6'>\n",
            "<re.Match object; span=(61, 62), match='7'>\n",
            "<re.Match object; span=(62, 63), match='8'>\n",
            "<re.Match object; span=(63, 64), match='9'>\n",
            "<re.Match object; span=(64, 65), match='0'>\n",
            "<re.Match object; span=(65, 66), match='\\n'>\n",
            "<re.Match object; span=(68, 69), match=' '>\n",
            "<re.Match object; span=(73, 74), match='\\n'>\n",
            "<re.Match object; span=(88, 89), match=' '>\n",
            "<re.Match object; span=(89, 90), match='('>\n",
            "<re.Match object; span=(94, 95), match=' '>\n",
            "<re.Match object; span=(97, 98), match=' '>\n",
            "<re.Match object; span=(100, 101), match=' '>\n",
            "<re.Match object; span=(108, 109), match=')'>\n",
            "<re.Match object; span=(109, 110), match=':'>\n",
            "<re.Match object; span=(110, 111), match='\\n'>\n",
            "<re.Match object; span=(111, 112), match='.'>\n",
            "<re.Match object; span=(112, 113), match=' '>\n",
            "<re.Match object; span=(113, 114), match='^'>\n",
            "<re.Match object; span=(114, 115), match=' '>\n",
            "<re.Match object; span=(115, 116), match='$'>\n",
            "<re.Match object; span=(116, 117), match=' '>\n",
            "<re.Match object; span=(117, 118), match='*'>\n",
            "<re.Match object; span=(118, 119), match=' '>\n",
            "<re.Match object; span=(119, 120), match='+'>\n",
            "<re.Match object; span=(120, 121), match=' '>\n",
            "<re.Match object; span=(121, 122), match='?'>\n",
            "<re.Match object; span=(122, 123), match=' '>\n",
            "<re.Match object; span=(123, 124), match='{'>\n",
            "<re.Match object; span=(124, 125), match=' '>\n",
            "<re.Match object; span=(125, 126), match='}'>\n",
            "<re.Match object; span=(126, 127), match=' '>\n",
            "<re.Match object; span=(127, 128), match='['>\n",
            "<re.Match object; span=(128, 129), match=' '>\n",
            "<re.Match object; span=(129, 130), match=']'>\n",
            "<re.Match object; span=(130, 131), match=' '>\n",
            "<re.Match object; span=(131, 132), match='\\\\'>\n",
            "<re.Match object; span=(132, 133), match=' '>\n",
            "<re.Match object; span=(133, 134), match='|'>\n",
            "<re.Match object; span=(134, 135), match=' '>\n",
            "<re.Match object; span=(135, 136), match='('>\n",
            "<re.Match object; span=(136, 137), match=' '>\n",
            "<re.Match object; span=(137, 138), match=')'>\n",
            "<re.Match object; span=(138, 139), match='\\n'>\n",
            "<re.Match object; span=(146, 147), match='.'>\n",
            "<re.Match object; span=(150, 151), match='\\n'>\n",
            "<re.Match object; span=(151, 152), match='3'>\n",
            "<re.Match object; span=(152, 153), match='2'>\n",
            "<re.Match object; span=(153, 154), match='1'>\n",
            "<re.Match object; span=(154, 155), match='-'>\n",
            "<re.Match object; span=(155, 156), match='5'>\n",
            "<re.Match object; span=(156, 157), match='5'>\n",
            "<re.Match object; span=(157, 158), match='5'>\n",
            "<re.Match object; span=(158, 159), match='-'>\n",
            "<re.Match object; span=(159, 160), match='4'>\n",
            "<re.Match object; span=(160, 161), match='3'>\n",
            "<re.Match object; span=(161, 162), match='2'>\n",
            "<re.Match object; span=(162, 163), match='1'>\n",
            "<re.Match object; span=(163, 164), match='\\n'>\n",
            "<re.Match object; span=(164, 165), match='1'>\n",
            "<re.Match object; span=(165, 166), match='2'>\n",
            "<re.Match object; span=(166, 167), match='3'>\n",
            "<re.Match object; span=(167, 168), match='.'>\n",
            "<re.Match object; span=(168, 169), match='5'>\n",
            "<re.Match object; span=(169, 170), match='5'>\n",
            "<re.Match object; span=(170, 171), match='5'>\n",
            "<re.Match object; span=(171, 172), match='.'>\n",
            "<re.Match object; span=(172, 173), match='1'>\n",
            "<re.Match object; span=(173, 174), match='2'>\n",
            "<re.Match object; span=(174, 175), match='3'>\n",
            "<re.Match object; span=(175, 176), match='4'>\n",
            "<re.Match object; span=(176, 177), match='\\n'>\n",
            "<re.Match object; span=(177, 178), match='1'>\n",
            "<re.Match object; span=(178, 179), match='2'>\n",
            "<re.Match object; span=(179, 180), match='3'>\n",
            "<re.Match object; span=(180, 181), match='*'>\n",
            "<re.Match object; span=(181, 182), match='5'>\n",
            "<re.Match object; span=(182, 183), match='5'>\n",
            "<re.Match object; span=(183, 184), match='5'>\n",
            "<re.Match object; span=(184, 185), match='*'>\n",
            "<re.Match object; span=(185, 186), match='1'>\n",
            "<re.Match object; span=(186, 187), match='2'>\n",
            "<re.Match object; span=(187, 188), match='3'>\n",
            "<re.Match object; span=(188, 189), match='4'>\n",
            "<re.Match object; span=(189, 190), match='\\n'>\n",
            "<re.Match object; span=(190, 191), match='8'>\n",
            "<re.Match object; span=(191, 192), match='0'>\n",
            "<re.Match object; span=(192, 193), match='0'>\n",
            "<re.Match object; span=(193, 194), match='-'>\n",
            "<re.Match object; span=(194, 195), match='5'>\n",
            "<re.Match object; span=(195, 196), match='5'>\n",
            "<re.Match object; span=(196, 197), match='5'>\n",
            "<re.Match object; span=(197, 198), match='-'>\n",
            "<re.Match object; span=(198, 199), match='1'>\n",
            "<re.Match object; span=(199, 200), match='2'>\n",
            "<re.Match object; span=(200, 201), match='3'>\n",
            "<re.Match object; span=(201, 202), match='4'>\n",
            "<re.Match object; span=(202, 203), match='\\n'>\n",
            "<re.Match object; span=(203, 204), match='9'>\n",
            "<re.Match object; span=(204, 205), match='0'>\n",
            "<re.Match object; span=(205, 206), match='0'>\n",
            "<re.Match object; span=(206, 207), match='-'>\n",
            "<re.Match object; span=(207, 208), match='5'>\n",
            "<re.Match object; span=(208, 209), match='5'>\n",
            "<re.Match object; span=(209, 210), match='5'>\n",
            "<re.Match object; span=(210, 211), match='-'>\n",
            "<re.Match object; span=(211, 212), match='1'>\n",
            "<re.Match object; span=(212, 213), match='2'>\n",
            "<re.Match object; span=(213, 214), match='3'>\n",
            "<re.Match object; span=(214, 215), match='4'>\n",
            "<re.Match object; span=(215, 216), match='\\n'>\n",
            "<re.Match object; span=(218, 219), match='.'>\n",
            "<re.Match object; span=(219, 220), match=' '>\n",
            "<re.Match object; span=(227, 228), match='\\n'>\n",
            "<re.Match object; span=(230, 231), match=' '>\n",
            "<re.Match object; span=(236, 237), match='\\n'>\n",
            "<re.Match object; span=(239, 240), match=' '>\n",
            "<re.Match object; span=(245, 246), match='\\n'>\n",
            "<re.Match object; span=(249, 250), match='.'>\n",
            "<re.Match object; span=(250, 251), match=' '>\n",
            "<re.Match object; span=(259, 260), match='\\n'>\n",
            "<re.Match object; span=(262, 263), match='.'>\n",
            "<re.Match object; span=(263, 264), match=' '>\n",
            "<re.Match object; span=(265, 266), match='\\n'>\n"
          ],
          "name": "stdout"
        }
      ]
    },
    {
      "cell_type": "code",
      "metadata": {
        "colab": {
          "base_uri": "https://localhost:8080/"
        },
        "id": "s68mCT80vyI3",
        "outputId": "5793a29e-dd68-4d2d-9a0c-55b128cc5f1a"
      },
      "source": [
        "#everything except bat\r\n",
        "pattern=re.compile(r'[^b]at')\r\n",
        "#finditer returns iterator\r\n",
        "matches=pattern.finditer(text_to_search)\r\n",
        "for match in matches:\r\n",
        "  print(match)"
      ],
      "execution_count": 37,
      "outputs": [
        {
          "output_type": "stream",
          "text": [
            "<re.Match object; span=(267, 270), match='cat'>\n",
            "<re.Match object; span=(271, 274), match='mat'>\n",
            "<re.Match object; span=(275, 278), match='pat'>\n"
          ],
          "name": "stdout"
        }
      ]
    },
    {
      "cell_type": "code",
      "metadata": {
        "colab": {
          "base_uri": "https://localhost:8080/"
        },
        "id": "aA0cxzSKvyGD",
        "outputId": "9f024798-ffa9-4212-e564-5455f945b9e8"
      },
      "source": [
        "pattern=re.compile(r'\\d\\d\\d.\\d\\d\\d.\\d\\d\\d\\d')\r\n",
        "#finditer returns iterator\r\n",
        "matches=pattern.finditer(text_to_search)\r\n",
        "for match in matches:\r\n",
        "  print(match)"
      ],
      "execution_count": 38,
      "outputs": [
        {
          "output_type": "stream",
          "text": [
            "<re.Match object; span=(151, 163), match='321-555-4321'>\n",
            "<re.Match object; span=(164, 176), match='123.555.1234'>\n",
            "<re.Match object; span=(177, 189), match='123*555*1234'>\n",
            "<re.Match object; span=(190, 202), match='800-555-1234'>\n",
            "<re.Match object; span=(203, 215), match='900-555-1234'>\n"
          ],
          "name": "stdout"
        }
      ]
    },
    {
      "cell_type": "code",
      "metadata": {
        "colab": {
          "base_uri": "https://localhost:8080/"
        },
        "id": "qmKW1JNxvyBx",
        "outputId": "ada6e051-7458-498b-cafb-a8dfea2023bd"
      },
      "source": [
        "#using quantifier for this\r\n",
        "#* 0 or more\r\n",
        "#+ 1 or more\r\n",
        "#? 0 or one\r\n",
        "#{3} Exact Number\r\n",
        "#{3,4} range of numbers (min, max)\r\n",
        "pattern=re.compile(r'\\d{3}.\\d{3}.\\d{4}')\r\n",
        "#finditer returns iterator\r\n",
        "matches=pattern.finditer(text_to_search)\r\n",
        "for match in matches:\r\n",
        "  print(match)"
      ],
      "execution_count": 39,
      "outputs": [
        {
          "output_type": "stream",
          "text": [
            "<re.Match object; span=(151, 163), match='321-555-4321'>\n",
            "<re.Match object; span=(164, 176), match='123.555.1234'>\n",
            "<re.Match object; span=(177, 189), match='123*555*1234'>\n",
            "<re.Match object; span=(190, 202), match='800-555-1234'>\n",
            "<re.Match object; span=(203, 215), match='900-555-1234'>\n"
          ],
          "name": "stdout"
        }
      ]
    },
    {
      "cell_type": "code",
      "metadata": {
        "colab": {
          "base_uri": "https://localhost:8080/"
        },
        "id": "2Fs1IVnNvx-X",
        "outputId": "9ef217c6-5b4b-41cb-c2a4-aae9910c43bd"
      },
      "source": [
        "pattern=re.compile(r'Mr\\.')\r\n",
        "#finditer returns iterator\r\n",
        "matches=pattern.finditer(text_to_search)\r\n",
        "for match in matches:\r\n",
        "  print(match)"
      ],
      "execution_count": 40,
      "outputs": [
        {
          "output_type": "stream",
          "text": [
            "<re.Match object; span=(216, 219), match='Mr.'>\n",
            "<re.Match object; span=(260, 263), match='Mr.'>\n"
          ],
          "name": "stdout"
        }
      ]
    },
    {
      "cell_type": "code",
      "metadata": {
        "colab": {
          "base_uri": "https://localhost:8080/"
        },
        "id": "igadilLsvx6R",
        "outputId": "3e757c19-c921-49aa-d471-dc6e4b8db7e7"
      },
      "source": [
        "#period after prefix is optional\r\n",
        "pattern=re.compile(r'Mr\\.?')\r\n",
        "#finditer returns iterator\r\n",
        "matches=pattern.finditer(text_to_search)\r\n",
        "for match in matches:\r\n",
        "  print(match)"
      ],
      "execution_count": 41,
      "outputs": [
        {
          "output_type": "stream",
          "text": [
            "<re.Match object; span=(216, 219), match='Mr.'>\n",
            "<re.Match object; span=(228, 230), match='Mr'>\n",
            "<re.Match object; span=(246, 248), match='Mr'>\n",
            "<re.Match object; span=(260, 263), match='Mr.'>\n"
          ],
          "name": "stdout"
        }
      ]
    },
    {
      "cell_type": "code",
      "metadata": {
        "colab": {
          "base_uri": "https://localhost:8080/"
        },
        "id": "z5cujWKuvx2X",
        "outputId": "c76f30c0-51d4-4660-82b3-700ba73a560a"
      },
      "source": [
        "#period after prefix is optional\r\n",
        "pattern=re.compile(r'Mr\\.?\\s[A-Z]\\w+')\r\n",
        "#finditer returns iterator\r\n",
        "matches=pattern.finditer(text_to_search)\r\n",
        "for match in matches:\r\n",
        "  print(match)"
      ],
      "execution_count": 44,
      "outputs": [
        {
          "output_type": "stream",
          "text": [
            "<re.Match object; span=(216, 227), match='Mr. Schafer'>\n",
            "<re.Match object; span=(228, 236), match='Mr Smith'>\n"
          ],
          "name": "stdout"
        }
      ]
    },
    {
      "cell_type": "code",
      "metadata": {
        "colab": {
          "base_uri": "https://localhost:8080/"
        },
        "id": "gCiNWtzQuykm",
        "outputId": "b86afe48-2465-45d0-f2bb-3e9050cc1ad3"
      },
      "source": [
        "#period after prefix is optional\r\n",
        "#now Mr. T also comes\r\n",
        "pattern=re.compile(r'Mr\\.?\\s[A-Z]\\w*')\r\n",
        "#finditer returns iterator\r\n",
        "matches=pattern.finditer(text_to_search)\r\n",
        "for match in matches:\r\n",
        "  print(match)"
      ],
      "execution_count": 45,
      "outputs": [
        {
          "output_type": "stream",
          "text": [
            "<re.Match object; span=(216, 227), match='Mr. Schafer'>\n",
            "<re.Match object; span=(228, 236), match='Mr Smith'>\n",
            "<re.Match object; span=(260, 265), match='Mr. T'>\n"
          ],
          "name": "stdout"
        }
      ]
    },
    {
      "cell_type": "code",
      "metadata": {
        "colab": {
          "base_uri": "https://localhost:8080/"
        },
        "id": "Vwo6uPwzuyfs",
        "outputId": "45e1018c-8690-4702-bece-1b74581aecbf"
      },
      "source": [
        "#period after prefix is optional\r\n",
        "#Ms, Mrs also captured with this\r\n",
        "pattern=re.compile(r'M(r|s|rs)\\.?\\s[A-Z]\\w+')\r\n",
        "#finditer returns iterator\r\n",
        "matches=pattern.finditer(text_to_search)\r\n",
        "for match in matches:\r\n",
        "  print(match)"
      ],
      "execution_count": 47,
      "outputs": [
        {
          "output_type": "stream",
          "text": [
            "<re.Match object; span=(216, 227), match='Mr. Schafer'>\n",
            "<re.Match object; span=(228, 236), match='Mr Smith'>\n",
            "<re.Match object; span=(237, 245), match='Ms Davis'>\n",
            "<re.Match object; span=(246, 259), match='Mrs. Robinson'>\n"
          ],
          "name": "stdout"
        }
      ]
    },
    {
      "cell_type": "code",
      "metadata": {
        "colab": {
          "base_uri": "https://localhost:8080/"
        },
        "id": "H2JIHLMvuycR",
        "outputId": "ab5af90c-ba35-4064-b3d5-32b4c51a1123"
      },
      "source": [
        "#period after prefix is optional\r\n",
        "#Ms, Mrs also captured with this\r\n",
        "pattern=re.compile(r'(Mr|Ms|Mrs)\\.?\\s[A-Z]\\w+')\r\n",
        "#finditer returns iterator\r\n",
        "matches=pattern.finditer(text_to_search)\r\n",
        "for match in matches:\r\n",
        "  print(match)"
      ],
      "execution_count": 48,
      "outputs": [
        {
          "output_type": "stream",
          "text": [
            "<re.Match object; span=(216, 227), match='Mr. Schafer'>\n",
            "<re.Match object; span=(228, 236), match='Mr Smith'>\n",
            "<re.Match object; span=(237, 245), match='Ms Davis'>\n",
            "<re.Match object; span=(246, 259), match='Mrs. Robinson'>\n"
          ],
          "name": "stdout"
        }
      ]
    },
    {
      "cell_type": "code",
      "metadata": {
        "colab": {
          "base_uri": "https://localhost:8080/"
        },
        "id": "u1bWBXoXsWah",
        "outputId": "5944b47d-b0d3-4c57-ea14-7548477d75b3"
      },
      "source": [
        "emails = '''\r\n",
        "CoreyMSchafer@gmail.com\r\n",
        "corey.schafer@university.edu\r\n",
        "corey-321-schafer@my-work.net\r\n",
        "'''\r\n",
        "\r\n",
        "pattern=re.compile(r'[a-zA-Z]+[@][a-zA-Z]+\\.com')\r\n",
        "#finditer returns iterator\r\n",
        "matches=pattern.finditer(emails)\r\n",
        "for match in matches:\r\n",
        "  print(match)"
      ],
      "execution_count": 50,
      "outputs": [
        {
          "output_type": "stream",
          "text": [
            "<re.Match object; span=(1, 24), match='CoreyMSchafer@gmail.com'>\n"
          ],
          "name": "stdout"
        }
      ]
    },
    {
      "cell_type": "code",
      "metadata": {
        "colab": {
          "base_uri": "https://localhost:8080/"
        },
        "id": "wiYuwRcwz0CY",
        "outputId": "c5f1fb3b-f581-4696-a0c7-5dc432e23faa"
      },
      "source": [
        "pattern=re.compile(r'[a-zA-Z.]+[@][a-zA-Z]+\\.(com|edu)')\r\n",
        "#finditer returns iterator\r\n",
        "matches=pattern.finditer(emails)\r\n",
        "for match in matches:\r\n",
        "  print(match)"
      ],
      "execution_count": 52,
      "outputs": [
        {
          "output_type": "stream",
          "text": [
            "<re.Match object; span=(1, 24), match='CoreyMSchafer@gmail.com'>\n",
            "<re.Match object; span=(25, 53), match='corey.schafer@university.edu'>\n"
          ],
          "name": "stdout"
        }
      ]
    },
    {
      "cell_type": "code",
      "metadata": {
        "colab": {
          "base_uri": "https://localhost:8080/"
        },
        "id": "3zOL77lQzz-j",
        "outputId": "1b030797-6322-4372-c1f2-ac1001fcd6a8"
      },
      "source": [
        "pattern=re.compile(r'[a-zA-Z0-9.-]+@[a-zA-Z-]+\\.(com|edu|net)')\r\n",
        "#finditer returns iterator\r\n",
        "matches=pattern.finditer(emails)\r\n",
        "for match in matches:\r\n",
        "  print(match)"
      ],
      "execution_count": 54,
      "outputs": [
        {
          "output_type": "stream",
          "text": [
            "<re.Match object; span=(1, 24), match='CoreyMSchafer@gmail.com'>\n",
            "<re.Match object; span=(25, 53), match='corey.schafer@university.edu'>\n",
            "<re.Match object; span=(54, 83), match='corey-321-schafer@my-work.net'>\n"
          ],
          "name": "stdout"
        }
      ]
    },
    {
      "cell_type": "code",
      "metadata": {
        "id": "knTHYhbYzz6P"
      },
      "source": [
        "#lot of regular expressions are there for email and all"
      ],
      "execution_count": 56,
      "outputs": []
    },
    {
      "cell_type": "code",
      "metadata": {
        "colab": {
          "base_uri": "https://localhost:8080/"
        },
        "id": "k8kKtmcHzz2F",
        "outputId": "b190c219-0200-4f4e-86fb-444aa22cef4d"
      },
      "source": [
        "#from internet\r\n",
        "#period escaped from backslash\r\n",
        "pattern=re.compile(r'[a-zA-Z0-9_.+-]+@[a-zA-Z0-9-]+\\.[a-zA-Z0-9-.]+')\r\n",
        "#finditer returns iterator\r\n",
        "matches=pattern.finditer(emails)\r\n",
        "for match in matches:\r\n",
        "  print(match)"
      ],
      "execution_count": 55,
      "outputs": [
        {
          "output_type": "stream",
          "text": [
            "<re.Match object; span=(1, 24), match='CoreyMSchafer@gmail.com'>\n",
            "<re.Match object; span=(25, 53), match='corey.schafer@university.edu'>\n",
            "<re.Match object; span=(54, 83), match='corey-321-schafer@my-work.net'>\n"
          ],
          "name": "stdout"
        }
      ]
    },
    {
      "cell_type": "code",
      "metadata": {
        "colab": {
          "base_uri": "https://localhost:8080/"
        },
        "id": "PwNJkaW6zzy0",
        "outputId": "68c68735-4f43-4ef9-ce83-cd007319d010"
      },
      "source": [
        "urls = '''\r\n",
        "https://www.google.com\r\n",
        "http://coreyms.com\r\n",
        "https://youtube.com\r\n",
        "https://www.nasa.gov\r\n",
        "'''\r\n",
        "\r\n",
        "#www. is optional using group\r\n",
        "\r\n",
        "pattern=re.compile(r'https?://(www\\.)?')\r\n",
        "#finditer returns iterator\r\n",
        "matches=pattern.finditer(urls)\r\n",
        "for match in matches:\r\n",
        "  print(match)"
      ],
      "execution_count": 57,
      "outputs": [
        {
          "output_type": "stream",
          "text": [
            "<re.Match object; span=(1, 13), match='https://www.'>\n",
            "<re.Match object; span=(24, 31), match='http://'>\n",
            "<re.Match object; span=(43, 51), match='https://'>\n",
            "<re.Match object; span=(63, 75), match='https://www.'>\n"
          ],
          "name": "stdout"
        }
      ]
    },
    {
      "cell_type": "code",
      "metadata": {
        "colab": {
          "base_uri": "https://localhost:8080/"
        },
        "id": "xUj63fbD3uNb",
        "outputId": "65c6b75a-c279-439f-d510-7218ec3d520d"
      },
      "source": [
        "pattern=re.compile(r'https?://(www\\.)?\\w+\\.\\w+')\r\n",
        "#finditer returns iterator\r\n",
        "matches=pattern.finditer(urls)\r\n",
        "for match in matches:\r\n",
        "  print(match)"
      ],
      "execution_count": 58,
      "outputs": [
        {
          "output_type": "stream",
          "text": [
            "<re.Match object; span=(1, 23), match='https://www.google.com'>\n",
            "<re.Match object; span=(24, 42), match='http://coreyms.com'>\n",
            "<re.Match object; span=(43, 62), match='https://youtube.com'>\n",
            "<re.Match object; span=(63, 83), match='https://www.nasa.gov'>\n"
          ],
          "name": "stdout"
        }
      ]
    },
    {
      "cell_type": "code",
      "metadata": {
        "colab": {
          "base_uri": "https://localhost:8080/"
        },
        "id": "rGCJtkss3uG7",
        "outputId": "4c3ea3e7-25af-4525-cef4-39cdbd70056f"
      },
      "source": [
        "#here we have three different groups\r\n",
        "pattern=re.compile(r'https?://(www\\.)?(\\w+)(\\.\\w+)')\r\n",
        "#finditer returns iterator\r\n",
        "matches=pattern.finditer(urls)\r\n",
        "for match in matches:\r\n",
        "  print(match)"
      ],
      "execution_count": 59,
      "outputs": [
        {
          "output_type": "stream",
          "text": [
            "<re.Match object; span=(1, 23), match='https://www.google.com'>\n",
            "<re.Match object; span=(24, 42), match='http://coreyms.com'>\n",
            "<re.Match object; span=(43, 62), match='https://youtube.com'>\n",
            "<re.Match object; span=(63, 83), match='https://www.nasa.gov'>\n"
          ],
          "name": "stdout"
        }
      ]
    },
    {
      "cell_type": "code",
      "metadata": {
        "colab": {
          "base_uri": "https://localhost:8080/"
        },
        "id": "eBlmbcPN3uDQ",
        "outputId": "be02fee8-ea6a-4d2d-841e-7f91f514622c"
      },
      "source": [
        "#here we have three different groups\r\n",
        "pattern=re.compile(r'https?://(www\\.)?(\\w+)(\\.\\w+)')\r\n",
        "#finditer returns iterator\r\n",
        "matches=pattern.finditer(urls)\r\n",
        "for match in matches:\r\n",
        "  print(match.group(0))"
      ],
      "execution_count": 60,
      "outputs": [
        {
          "output_type": "stream",
          "text": [
            "https://www.google.com\n",
            "http://coreyms.com\n",
            "https://youtube.com\n",
            "https://www.nasa.gov\n"
          ],
          "name": "stdout"
        }
      ]
    },
    {
      "cell_type": "code",
      "metadata": {
        "colab": {
          "base_uri": "https://localhost:8080/"
        },
        "id": "rl5CCyd03ZAS",
        "outputId": "4a79b70c-6eb9-4b3a-a37a-5ec8fb65e600"
      },
      "source": [
        "#here we have three different groups\r\n",
        "pattern=re.compile(r'https?://(www\\.)?(\\w+)(\\.\\w+)')\r\n",
        "#finditer returns iterator\r\n",
        "matches=pattern.finditer(urls)\r\n",
        "for match in matches:\r\n",
        "  print(match.group(1))"
      ],
      "execution_count": 61,
      "outputs": [
        {
          "output_type": "stream",
          "text": [
            "www.\n",
            "None\n",
            "None\n",
            "www.\n"
          ],
          "name": "stdout"
        }
      ]
    },
    {
      "cell_type": "code",
      "metadata": {
        "colab": {
          "base_uri": "https://localhost:8080/"
        },
        "id": "YHv64EBz3Y9G",
        "outputId": "445f71b0-2d28-44a1-ecc5-481adef77ca7"
      },
      "source": [
        "#here we have three different groups\r\n",
        "#printing groups\r\n",
        "pattern=re.compile(r'https?://(www\\.)?(\\w+)(\\.\\w+)')\r\n",
        "#finditer returns iterator\r\n",
        "matches=pattern.finditer(urls)\r\n",
        "for match in matches:\r\n",
        "  print(match.group(2))"
      ],
      "execution_count": 62,
      "outputs": [
        {
          "output_type": "stream",
          "text": [
            "google\n",
            "coreyms\n",
            "youtube\n",
            "nasa\n"
          ],
          "name": "stdout"
        }
      ]
    },
    {
      "cell_type": "code",
      "metadata": {
        "colab": {
          "base_uri": "https://localhost:8080/"
        },
        "id": "hJ-5sR8m3Y52",
        "outputId": "76526b81-c9b2-473c-bef8-a70bb3b9194a"
      },
      "source": [
        "pattern=re.compile(r'https?://(www\\.)?(\\w+)(\\.\\w+)')\r\n",
        "#finditer returns iterator\r\n",
        "matches=pattern.finditer(urls)\r\n",
        "for match in matches:\r\n",
        "  print(match.group(3))"
      ],
      "execution_count": 63,
      "outputs": [
        {
          "output_type": "stream",
          "text": [
            ".com\n",
            ".com\n",
            ".com\n",
            ".gov\n"
          ],
          "name": "stdout"
        }
      ]
    },
    {
      "cell_type": "code",
      "metadata": {
        "colab": {
          "base_uri": "https://localhost:8080/",
          "height": 35
        },
        "id": "JRxxPtGb3Y2J",
        "outputId": "d7ff964b-3c3d-4d26-bf49-84c1d51ac149"
      },
      "source": [
        "subbed_urls = pattern.sub(r'\\2\\3', urls)\r\n",
        "subbed_urls"
      ],
      "execution_count": 65,
      "outputs": [
        {
          "output_type": "execute_result",
          "data": {
            "application/vnd.google.colaboratory.intrinsic+json": {
              "type": "string"
            },
            "text/plain": [
              "'\\ngoogle.com\\ncoreyms.com\\nyoutube.com\\nnasa.gov\\n'"
            ]
          },
          "metadata": {
            "tags": []
          },
          "execution_count": 65
        }
      ]
    },
    {
      "cell_type": "code",
      "metadata": {
        "colab": {
          "base_uri": "https://localhost:8080/"
        },
        "id": "zlNPv6Hc3YyZ",
        "outputId": "4280408c-8003-462b-f16a-514c9c4df456"
      },
      "source": [
        "pattern=re.compile(r'(Mr|Ms|Mrs)\\.?\\s[A-Z]\\w+')\r\n",
        "#finditer returns iterator\r\n",
        "matches=pattern.findall(text_to_search)\r\n",
        "for match in matches:\r\n",
        "  print(match)"
      ],
      "execution_count": 66,
      "outputs": [
        {
          "output_type": "stream",
          "text": [
            "Mr\n",
            "Mr\n",
            "Ms\n",
            "Mrs\n"
          ],
          "name": "stdout"
        }
      ]
    },
    {
      "cell_type": "code",
      "metadata": {
        "colab": {
          "base_uri": "https://localhost:8080/"
        },
        "id": "5eNp3ljA3YuT",
        "outputId": "d4a39b1b-8df9-4288-935d-c8a82e14f2b0"
      },
      "source": [
        "pattern=re.compile(r'\\d{3}.\\d{3}.\\d{4}')\r\n",
        "#finditer returns iterator\r\n",
        "matches=pattern.findall(text_to_search)\r\n",
        "for match in matches:\r\n",
        "  print(match)"
      ],
      "execution_count": 67,
      "outputs": [
        {
          "output_type": "stream",
          "text": [
            "321-555-4321\n",
            "123.555.1234\n",
            "123*555*1234\n",
            "800-555-1234\n",
            "900-555-1234\n"
          ],
          "name": "stdout"
        }
      ]
    },
    {
      "cell_type": "code",
      "metadata": {
        "colab": {
          "base_uri": "https://localhost:8080/",
          "height": 212
        },
        "id": "OD0kkx6m3YqD",
        "outputId": "de69027d-446b-4096-dc3b-d55188979b9c"
      },
      "source": [
        "pattern=re.compile(r'Start')\r\n",
        "#finditer returns iterator\r\n",
        "matches=pattern.match(sentence)\r\n",
        "for match in matches:\r\n",
        "  print(match)"
      ],
      "execution_count": 68,
      "outputs": [
        {
          "output_type": "error",
          "ename": "TypeError",
          "evalue": "ignored",
          "traceback": [
            "\u001b[0;31m---------------------------------------------------------------------------\u001b[0m",
            "\u001b[0;31mTypeError\u001b[0m                                 Traceback (most recent call last)",
            "\u001b[0;32m<ipython-input-68-aab314d2f46e>\u001b[0m in \u001b[0;36m<module>\u001b[0;34m()\u001b[0m\n\u001b[1;32m      2\u001b[0m \u001b[0;31m#finditer returns iterator\u001b[0m\u001b[0;34m\u001b[0m\u001b[0;34m\u001b[0m\u001b[0;34m\u001b[0m\u001b[0m\n\u001b[1;32m      3\u001b[0m \u001b[0mmatches\u001b[0m\u001b[0;34m=\u001b[0m\u001b[0mpattern\u001b[0m\u001b[0;34m.\u001b[0m\u001b[0mmatch\u001b[0m\u001b[0;34m(\u001b[0m\u001b[0msentence\u001b[0m\u001b[0;34m)\u001b[0m\u001b[0;34m\u001b[0m\u001b[0;34m\u001b[0m\u001b[0m\n\u001b[0;32m----> 4\u001b[0;31m \u001b[0;32mfor\u001b[0m \u001b[0mmatch\u001b[0m \u001b[0;32min\u001b[0m \u001b[0mmatches\u001b[0m\u001b[0;34m:\u001b[0m\u001b[0;34m\u001b[0m\u001b[0;34m\u001b[0m\u001b[0m\n\u001b[0m\u001b[1;32m      5\u001b[0m   \u001b[0mprint\u001b[0m\u001b[0;34m(\u001b[0m\u001b[0mmatch\u001b[0m\u001b[0;34m)\u001b[0m\u001b[0;34m\u001b[0m\u001b[0;34m\u001b[0m\u001b[0m\n",
            "\u001b[0;31mTypeError\u001b[0m: 're.Match' object is not iterable"
          ]
        }
      ]
    },
    {
      "cell_type": "code",
      "metadata": {
        "colab": {
          "base_uri": "https://localhost:8080/"
        },
        "id": "4NpGAQDy3YmR",
        "outputId": "25baeffa-847b-4ccb-e98f-a94dac515e54"
      },
      "source": [
        "#this only matches at the beginning\r\n",
        "print(matches)"
      ],
      "execution_count": 69,
      "outputs": [
        {
          "output_type": "stream",
          "text": [
            "<re.Match object; span=(0, 5), match='Start'>\n"
          ],
          "name": "stdout"
        }
      ]
    },
    {
      "cell_type": "code",
      "metadata": {
        "colab": {
          "base_uri": "https://localhost:8080/"
        },
        "id": "kSWnRnfo3YiU",
        "outputId": "e560dafa-cfb1-48b9-fbae-4d26c8a61d34"
      },
      "source": [
        "pattern=re.compile(r'sentence')\r\n",
        "#finditer returns iterator\r\n",
        "matches=pattern.match(sentence)\r\n",
        "print(matches)"
      ],
      "execution_count": 70,
      "outputs": [
        {
          "output_type": "stream",
          "text": [
            "None\n"
          ],
          "name": "stdout"
        }
      ]
    },
    {
      "cell_type": "code",
      "metadata": {
        "colab": {
          "base_uri": "https://localhost:8080/"
        },
        "id": "dLeh4YIV3Yer",
        "outputId": "50131d82-b614-42ce-f5e0-e647fb49ff7e"
      },
      "source": [
        "#prints first time match\r\n",
        "pattern=re.compile(r'sentence')\r\n",
        "#finditer returns iterator\r\n",
        "matches=pattern.search(sentence)\r\n",
        "print(matches)"
      ],
      "execution_count": 71,
      "outputs": [
        {
          "output_type": "stream",
          "text": [
            "<re.Match object; span=(8, 16), match='sentence'>\n"
          ],
          "name": "stdout"
        }
      ]
    },
    {
      "cell_type": "code",
      "metadata": {
        "colab": {
          "base_uri": "https://localhost:8080/"
        },
        "id": "fvVNwHeyzzvO",
        "outputId": "a3e361a3-52ee-4da7-a085-018bd74fa449"
      },
      "source": [
        "#prints first time match\r\n",
        "pattern=re.compile(r'does not exist')\r\n",
        "#finditer returns iterator\r\n",
        "matches=pattern.search(sentence)\r\n",
        "print(matches)"
      ],
      "execution_count": 72,
      "outputs": [
        {
          "output_type": "stream",
          "text": [
            "None\n"
          ],
          "name": "stdout"
        }
      ]
    },
    {
      "cell_type": "code",
      "metadata": {
        "id": "H7uyzW_8zzrv"
      },
      "source": [
        "#Flags\r\n",
        "#but not good\r\n",
        "pattern=re.compile(r'[Ss][Tt][Aa]')\r\n",
        "#finditer returns iterator\r\n",
        "matches=pattern.search(sentence)\r\n",
        "print(matches)"
      ],
      "execution_count": null,
      "outputs": []
    },
    {
      "cell_type": "code",
      "metadata": {
        "colab": {
          "base_uri": "https://localhost:8080/"
        },
        "id": "6erWeKyWsWXv",
        "outputId": "f964ed6c-12a6-4b1c-9144-546d7196febf"
      },
      "source": [
        "pattern=re.compile(r'start', re.IGNORECASE)\r\n",
        "#finditer returns iterator\r\n",
        "matches=pattern.search(sentence)\r\n",
        "print(matches)"
      ],
      "execution_count": 73,
      "outputs": [
        {
          "output_type": "stream",
          "text": [
            "<re.Match object; span=(0, 5), match='Start'>\n"
          ],
          "name": "stdout"
        }
      ]
    },
    {
      "cell_type": "code",
      "metadata": {
        "colab": {
          "base_uri": "https://localhost:8080/"
        },
        "id": "jqLS4BFnsWUv",
        "outputId": "e8af0959-045d-4103-c642-dd607312da8f"
      },
      "source": [
        "#does same thing as Ignorecase\r\n",
        "pattern=re.compile(r'start', re.I)\r\n",
        "#finditer returns iterator\r\n",
        "matches=pattern.search(sentence)\r\n",
        "print(matches)"
      ],
      "execution_count": 74,
      "outputs": [
        {
          "output_type": "stream",
          "text": [
            "<re.Match object; span=(0, 5), match='Start'>\n"
          ],
          "name": "stdout"
        }
      ]
    },
    {
      "cell_type": "code",
      "metadata": {
        "id": "ZpwMJEIssWRs"
      },
      "source": [
        "#reverse flag"
      ],
      "execution_count": null,
      "outputs": []
    },
    {
      "cell_type": "code",
      "metadata": {
        "id": "MLj0ksuHsWO-"
      },
      "source": [
        ""
      ],
      "execution_count": null,
      "outputs": []
    },
    {
      "cell_type": "code",
      "metadata": {
        "id": "djY6VI1usWMX"
      },
      "source": [
        ""
      ],
      "execution_count": null,
      "outputs": []
    },
    {
      "cell_type": "code",
      "metadata": {
        "id": "J9mbpCF0sWDA"
      },
      "source": [
        ""
      ],
      "execution_count": null,
      "outputs": []
    },
    {
      "cell_type": "code",
      "metadata": {
        "id": "9-XAupVSsWAY"
      },
      "source": [
        ""
      ],
      "execution_count": null,
      "outputs": []
    },
    {
      "cell_type": "code",
      "metadata": {
        "id": "hwDX0Ks3sV9w"
      },
      "source": [
        ""
      ],
      "execution_count": null,
      "outputs": []
    },
    {
      "cell_type": "code",
      "metadata": {
        "id": "-izgm13PsV69"
      },
      "source": [
        ""
      ],
      "execution_count": null,
      "outputs": []
    },
    {
      "cell_type": "code",
      "metadata": {
        "id": "M-17Bk5asV3_"
      },
      "source": [
        ""
      ],
      "execution_count": null,
      "outputs": []
    },
    {
      "cell_type": "code",
      "metadata": {
        "id": "KICyM3ZZsKXU"
      },
      "source": [
        ""
      ],
      "execution_count": null,
      "outputs": []
    },
    {
      "cell_type": "code",
      "metadata": {
        "id": "utAMKznDsKT4"
      },
      "source": [
        ""
      ],
      "execution_count": null,
      "outputs": []
    },
    {
      "cell_type": "code",
      "metadata": {
        "id": "P8Zj1ngxrpaV"
      },
      "source": [
        ""
      ],
      "execution_count": null,
      "outputs": []
    },
    {
      "cell_type": "code",
      "metadata": {
        "id": "P-Xk2nKBq0Lu"
      },
      "source": [
        ""
      ],
      "execution_count": null,
      "outputs": []
    },
    {
      "cell_type": "code",
      "metadata": {
        "id": "7RoWwIoAq0IX"
      },
      "source": [
        ""
      ],
      "execution_count": null,
      "outputs": []
    },
    {
      "cell_type": "code",
      "metadata": {
        "id": "5cwBtttaq0FT"
      },
      "source": [
        ""
      ],
      "execution_count": null,
      "outputs": []
    },
    {
      "cell_type": "code",
      "metadata": {
        "id": "JdYGtH30q0CV"
      },
      "source": [
        ""
      ],
      "execution_count": null,
      "outputs": []
    },
    {
      "cell_type": "code",
      "metadata": {
        "id": "ZxFVVZ7cqQll"
      },
      "source": [
        ""
      ],
      "execution_count": null,
      "outputs": []
    },
    {
      "cell_type": "code",
      "metadata": {
        "id": "OI2i2yudqQjH"
      },
      "source": [
        ""
      ],
      "execution_count": null,
      "outputs": []
    }
  ]
}